{
 "cells": [
  {
   "cell_type": "markdown",
   "id": "1c989c4b",
   "metadata": {},
   "source": [
    "A moving window function, also known as a rolling window function, is a way to compute a function over a fixed-width sliding window of data points in a time series. It is a common technique used in time series analysis and is particularly useful for smoothing noisy data, detecting trends and patterns, and calculating rolling statistics.\n",
    "\n"
   ]
  },
  {
   "cell_type": "markdown",
   "id": "39ddfa07",
   "metadata": {},
   "source": [
    "The basic idea of a moving window function is to define a window of a fixed size that moves along the time series and computes a function over the data within that window."
   ]
  },
  {
   "cell_type": "code",
   "execution_count": 1,
   "id": "7965d0b8",
   "metadata": {},
   "outputs": [
    {
     "name": "stdout",
     "output_type": "stream",
     "text": [
      "0    NaN\n",
      "1    NaN\n",
      "2    2.0\n",
      "3    3.0\n",
      "4    4.0\n",
      "5    5.0\n",
      "6    6.0\n",
      "7    7.0\n",
      "8    8.0\n",
      "9    9.0\n",
      "dtype: float64\n"
     ]
    }
   ],
   "source": [
    "import pandas as pd\n",
    "\n",
    "# Create a time series\n",
    "data = [1, 2, 3, 4, 5, 6, 7, 8, 9, 10]\n",
    "ts = pd.Series(data)\n",
    "\n",
    "# Compute a rolling average with a window of size 3\n",
    "rolling_mean = ts.rolling(window=3).mean()\n",
    "\n",
    "# Print the results\n",
    "print(rolling_mean)\n"
   ]
  },
  {
   "cell_type": "markdown",
   "id": "0197f121",
   "metadata": {},
   "source": [
    " The first two values in the rolling mean are NaN, since there is not enough data to compute a rolling average, but the subsequent values are the rolling averages over the window of size 3."
   ]
  },
  {
   "cell_type": "markdown",
   "id": "4ed65a20",
   "metadata": {},
   "source": [
    "\n",
    "\n",
    "**1. Window size:** The size of the window used in a moving window function is an important parameter that can affect the results. A larger window size will give a smoother rolling average, but may also mask shorter-term fluctuations in the data. A smaller window size will capture shorter-term fluctuations but may be more susceptible to noise in the data.\n",
    "\n",
    "**2. Centering:** By default, the rolling() function in Pandas uses a trailing window, which means that **the window is anchored to the right end of the time series.** However, it's also possible to use a centered window, which computes the function over a window centered at each time step. This can be done by passing the argument \"center=True\" to the rolling() function.\n",
    "\n",
    "**3.Other functions:** In addition to computing rolling averages, other functions can be applied to the data within the moving window, such as computing the minimum, maximum, or standard deviation. The rolling() function in Pandas can be used with any function that takes a one-dimensional array as input.\n",
    "\n",
    "**4.Multiple windows:** It's also possible to compute moving window functions with multiple window sizes, which can capture both short-term and long-term trends in the data. This can be done by chaining multiple rolling() functions together, each with a different window size."
   ]
  },
  {
   "cell_type": "code",
   "execution_count": 2,
   "id": "c4b091c2",
   "metadata": {},
   "outputs": [
    {
     "name": "stdout",
     "output_type": "stream",
     "text": [
      "Rolling minimum:\n",
      "0    NaN\n",
      "1    NaN\n",
      "2    1.0\n",
      "3    2.0\n",
      "4    3.0\n",
      "5    4.0\n",
      "6    5.0\n",
      "7    6.0\n",
      "8    7.0\n",
      "9    8.0\n",
      "dtype: float64\n",
      "Rolling maximum:\n",
      "0     NaN\n",
      "1     NaN\n",
      "2     NaN\n",
      "3     NaN\n",
      "4     5.0\n",
      "5     6.0\n",
      "6     7.0\n",
      "7     8.0\n",
      "8     9.0\n",
      "9    10.0\n",
      "dtype: float64\n"
     ]
    }
   ],
   "source": [
    "import pandas as pd\n",
    "\n",
    "# Create a time series\n",
    "data = [1, 2, 3, 4, 5, 6, 7, 8, 9, 10]\n",
    "ts = pd.Series(data)\n",
    "\n",
    "# Compute rolling minimum and maximum with window sizes of 3 and 5\n",
    "rolling_min = ts.rolling(window=3).min()\n",
    "rolling_max = ts.rolling(window=5).max()\n",
    "\n",
    "# Print the results\n",
    "print(\"Rolling minimum:\")\n",
    "print(rolling_min)\n",
    "print(\"Rolling maximum:\")\n",
    "print(rolling_max)\n"
   ]
  },
  {
   "cell_type": "markdown",
   "id": "80080604",
   "metadata": {},
   "source": [
    "Moving window functions are widely used in time series analysis for a variety of purposes, such as:\n",
    "\n",
    "**1.Trend estimation:** A moving window function can be used to estimate the trend in a time series by computing a rolling average or other function over a fixed-size window. This can be useful for identifying long-term patterns in the data and removing short-term noise.\n",
    "\n",
    "**2.Smoothing:** Moving window functions can be used to smooth out noisy data by computing a rolling average or other function over a window. This can help to identify underlying trends in the data that may be obscured by noise.\n",
    "\n",
    "**3.Seasonality detection:** A moving window function can be used to identify seasonal patterns in a time series by computing a rolling average over a fixed-size window that corresponds to the length of a seasonal cycle.\n",
    "\n",
    "**4.Outlier detection:** Moving window functions can be used to detect outliers in a time series by computing a rolling median or other robust statistic that is less sensitive to extreme values than the mean.\n",
    "\n",
    "**5.Forecasting:** Moving window functions can be used to compute rolling statistics such as the mean or standard deviation, which can be used as inputs to time series forecasting models."
   ]
  },
  {
   "cell_type": "code",
   "execution_count": 8,
   "id": "ac4c0fdc",
   "metadata": {},
   "outputs": [],
   "source": [
    "import pandas as pd\n",
    "df = pd.read_csv(\"AAPL.csv\",index_col=0)"
   ]
  },
  {
   "cell_type": "code",
   "execution_count": 9,
   "id": "4f6a0e61",
   "metadata": {},
   "outputs": [
    {
     "data": {
      "text/html": [
       "<div>\n",
       "<style scoped>\n",
       "    .dataframe tbody tr th:only-of-type {\n",
       "        vertical-align: middle;\n",
       "    }\n",
       "\n",
       "    .dataframe tbody tr th {\n",
       "        vertical-align: top;\n",
       "    }\n",
       "\n",
       "    .dataframe thead th {\n",
       "        text-align: right;\n",
       "    }\n",
       "</style>\n",
       "<table border=\"1\" class=\"dataframe\">\n",
       "  <thead>\n",
       "    <tr style=\"text-align: right;\">\n",
       "      <th></th>\n",
       "      <th>Open</th>\n",
       "      <th>High</th>\n",
       "      <th>Low</th>\n",
       "      <th>Close</th>\n",
       "      <th>Adj Close</th>\n",
       "      <th>Volume</th>\n",
       "    </tr>\n",
       "    <tr>\n",
       "      <th>Date</th>\n",
       "      <th></th>\n",
       "      <th></th>\n",
       "      <th></th>\n",
       "      <th></th>\n",
       "      <th></th>\n",
       "      <th></th>\n",
       "    </tr>\n",
       "  </thead>\n",
       "  <tbody>\n",
       "    <tr>\n",
       "      <th>2022-03-28</th>\n",
       "      <td>172.169998</td>\n",
       "      <td>175.729996</td>\n",
       "      <td>172.000000</td>\n",
       "      <td>175.600006</td>\n",
       "      <td>174.542679</td>\n",
       "      <td>90371900</td>\n",
       "    </tr>\n",
       "    <tr>\n",
       "      <th>2022-03-29</th>\n",
       "      <td>176.690002</td>\n",
       "      <td>179.009995</td>\n",
       "      <td>176.339996</td>\n",
       "      <td>178.960007</td>\n",
       "      <td>177.882446</td>\n",
       "      <td>100589400</td>\n",
       "    </tr>\n",
       "    <tr>\n",
       "      <th>2022-03-30</th>\n",
       "      <td>178.550003</td>\n",
       "      <td>179.610001</td>\n",
       "      <td>176.699997</td>\n",
       "      <td>177.770004</td>\n",
       "      <td>176.699615</td>\n",
       "      <td>92633200</td>\n",
       "    </tr>\n",
       "    <tr>\n",
       "      <th>2022-03-31</th>\n",
       "      <td>177.839996</td>\n",
       "      <td>178.029999</td>\n",
       "      <td>174.399994</td>\n",
       "      <td>174.610001</td>\n",
       "      <td>173.558640</td>\n",
       "      <td>103049300</td>\n",
       "    </tr>\n",
       "    <tr>\n",
       "      <th>2022-04-01</th>\n",
       "      <td>174.029999</td>\n",
       "      <td>174.880005</td>\n",
       "      <td>171.940002</td>\n",
       "      <td>174.309998</td>\n",
       "      <td>173.260437</td>\n",
       "      <td>78751300</td>\n",
       "    </tr>\n",
       "    <tr>\n",
       "      <th>...</th>\n",
       "      <td>...</td>\n",
       "      <td>...</td>\n",
       "      <td>...</td>\n",
       "      <td>...</td>\n",
       "      <td>...</td>\n",
       "      <td>...</td>\n",
       "    </tr>\n",
       "    <tr>\n",
       "      <th>2023-03-22</th>\n",
       "      <td>159.300003</td>\n",
       "      <td>162.139999</td>\n",
       "      <td>157.809998</td>\n",
       "      <td>157.830002</td>\n",
       "      <td>157.830002</td>\n",
       "      <td>75701800</td>\n",
       "    </tr>\n",
       "    <tr>\n",
       "      <th>2023-03-23</th>\n",
       "      <td>158.830002</td>\n",
       "      <td>161.550003</td>\n",
       "      <td>157.679993</td>\n",
       "      <td>158.929993</td>\n",
       "      <td>158.929993</td>\n",
       "      <td>67622100</td>\n",
       "    </tr>\n",
       "    <tr>\n",
       "      <th>2023-03-24</th>\n",
       "      <td>158.860001</td>\n",
       "      <td>160.339996</td>\n",
       "      <td>157.850006</td>\n",
       "      <td>160.250000</td>\n",
       "      <td>160.250000</td>\n",
       "      <td>59196500</td>\n",
       "    </tr>\n",
       "    <tr>\n",
       "      <th>2023-03-27</th>\n",
       "      <td>159.940002</td>\n",
       "      <td>160.770004</td>\n",
       "      <td>157.869995</td>\n",
       "      <td>158.279999</td>\n",
       "      <td>158.279999</td>\n",
       "      <td>52390300</td>\n",
       "    </tr>\n",
       "    <tr>\n",
       "      <th>2023-03-28</th>\n",
       "      <td>157.970001</td>\n",
       "      <td>158.490005</td>\n",
       "      <td>155.979996</td>\n",
       "      <td>157.649994</td>\n",
       "      <td>157.649994</td>\n",
       "      <td>45939800</td>\n",
       "    </tr>\n",
       "  </tbody>\n",
       "</table>\n",
       "<p>252 rows × 6 columns</p>\n",
       "</div>"
      ],
      "text/plain": [
       "                  Open        High         Low       Close   Adj Close  \\\n",
       "Date                                                                     \n",
       "2022-03-28  172.169998  175.729996  172.000000  175.600006  174.542679   \n",
       "2022-03-29  176.690002  179.009995  176.339996  178.960007  177.882446   \n",
       "2022-03-30  178.550003  179.610001  176.699997  177.770004  176.699615   \n",
       "2022-03-31  177.839996  178.029999  174.399994  174.610001  173.558640   \n",
       "2022-04-01  174.029999  174.880005  171.940002  174.309998  173.260437   \n",
       "...                ...         ...         ...         ...         ...   \n",
       "2023-03-22  159.300003  162.139999  157.809998  157.830002  157.830002   \n",
       "2023-03-23  158.830002  161.550003  157.679993  158.929993  158.929993   \n",
       "2023-03-24  158.860001  160.339996  157.850006  160.250000  160.250000   \n",
       "2023-03-27  159.940002  160.770004  157.869995  158.279999  158.279999   \n",
       "2023-03-28  157.970001  158.490005  155.979996  157.649994  157.649994   \n",
       "\n",
       "               Volume  \n",
       "Date                   \n",
       "2022-03-28   90371900  \n",
       "2022-03-29  100589400  \n",
       "2022-03-30   92633200  \n",
       "2022-03-31  103049300  \n",
       "2022-04-01   78751300  \n",
       "...               ...  \n",
       "2023-03-22   75701800  \n",
       "2023-03-23   67622100  \n",
       "2023-03-24   59196500  \n",
       "2023-03-27   52390300  \n",
       "2023-03-28   45939800  \n",
       "\n",
       "[252 rows x 6 columns]"
      ]
     },
     "execution_count": 9,
     "metadata": {},
     "output_type": "execute_result"
    }
   ],
   "source": [
    "df"
   ]
  },
  {
   "cell_type": "code",
   "execution_count": 26,
   "id": "f26fdae2",
   "metadata": {},
   "outputs": [],
   "source": [
    "roll = df.Open.rolling(window=20,min_periods=10).mean()"
   ]
  },
  {
   "cell_type": "code",
   "execution_count": 27,
   "id": "f35b82c3",
   "metadata": {},
   "outputs": [
    {
     "data": {
      "text/plain": [
       "Date\n",
       "2022-03-28           NaN\n",
       "2022-03-29           NaN\n",
       "2022-03-30           NaN\n",
       "2022-03-31           NaN\n",
       "2022-04-01           NaN\n",
       "                 ...    \n",
       "2023-03-22    151.274501\n",
       "2023-03-23    151.711501\n",
       "2023-03-24    152.299001\n",
       "2023-03-27    152.910501\n",
       "2023-03-28    153.456501\n",
       "Name: Open, Length: 252, dtype: float64"
      ]
     },
     "execution_count": 27,
     "metadata": {},
     "output_type": "execute_result"
    }
   ],
   "source": [
    "roll"
   ]
  },
  {
   "cell_type": "code",
   "execution_count": 28,
   "id": "174c31d3",
   "metadata": {},
   "outputs": [
    {
     "data": {
      "text/plain": [
       "<AxesSubplot:xlabel='Date'>"
      ]
     },
     "execution_count": 28,
     "metadata": {},
     "output_type": "execute_result"
    },
    {
     "data": {
      "image/png": "[encoded data removed]",
      "text/plain": [
       "<Figure size 432x288 with 1 Axes>"
      ]
     },
     "metadata": {
      "needs_background": "light"
     },
     "output_type": "display_data"
    }
   ],
   "source": [
    "df.Open.plot()\n",
    "roll.plot()"
   ]
  },
  {
   "cell_type": "markdown",
   "id": "0655704d",
   "metadata": {},
   "source": [
    "In the Pandas rolling() function, the min_periods parameter specifies the minimum number of observations in each window required to calculate a rolling statistic.\n",
    "\n",
    "In the code you provided, df.Open.rolling(window=20, min_periods=20).mean(), a 20-day rolling mean is calculated for the \"Open\" column of a Pandas DataFrame. The min_periods=20 parameter specifies that the rolling mean should only be computed if there are at least 20 non-NaN values in each window.\n",
    "\n",
    "This parameter is useful for dealing with missing data or gaps in the time series. If there are not enough data points within a window to calculate the rolling statistic, the result will be NaN. "
   ]
  },
  {
   "cell_type": "markdown",
   "id": "a61f1d77",
   "metadata": {},
   "source": [
    "# Handling NA"
   ]
  },
  {
   "cell_type": "code",
   "execution_count": 29,
   "id": "e1e5d33d",
   "metadata": {},
   "outputs": [
    {
     "data": {
      "text/plain": [
       "<AxesSubplot:xlabel='Date'>"
      ]
     },
     "execution_count": 29,
     "metadata": {},
     "output_type": "execute_result"
    },
    {
     "data": {
      "image/png": "[encoded data removed]",
      "text/plain": [
       "<Figure size 432x288 with 1 Axes>"
      ]
     },
     "metadata": {
      "needs_background": "light"
     },
     "output_type": "display_data"
    }
   ],
   "source": [
    "df.Open.rolling(window=20,min_periods=10).mean().plot()"
   ]
  },
  {
   "cell_type": "markdown",
   "id": "0c025e08",
   "metadata": {},
   "source": [
    "The expression rolling(250) is similar in behavior to groupby, but instead of group‐\n",
    "ing it creates an object that enables grouping over a 250-day sliding windo"
   ]
  },
  {
   "cell_type": "markdown",
   "id": "a53bc8d4",
   "metadata": {},
   "source": [
    " By default, Pandas rolling functions exclude any window that contains at least one NaN or null value from the calculation of the rolling statistic. This means that all values in the window must be non-NA in order for the rolling statistic to be computed.\n",
    "\n",
    "This behavior is controlled by the min_periods parameter in the rolling function. The min_periods parameter specifies the minimum number of non-NA values required for the rolling statistic to be computed. If the number of non-NA values in a window is less than min_periods, the rolling statistic for that window will be NaN."
   ]
  },
  {
   "cell_type": "raw",
   "id": "ac876f41",
   "metadata": {},
   "source": [
    "regular time series - Integer\n",
    "Irregular Time Series - String"
   ]
  },
  {
   "cell_type": "raw",
   "id": "cc36a2cc",
   "metadata": {},
   "source": [
    "The rolling function also accepts a string indicating a fixed-size time offset rather\n",
    "than a set number of periods. Using this notation can be useful for irregular time series. These are the same strings that you can pass to resample"
   ]
  },
  {
   "cell_type": "markdown",
   "id": "964aa25a",
   "metadata": {},
   "source": [
    "# Expanding window mean"
   ]
  },
  {
   "cell_type": "markdown",
   "id": "5c48e36e",
   "metadata": {},
   "source": [
    "In time series analysis, the expanding window mean is a statistical calculation that computes the mean of a time series over an expanding window of observations. Unlike a rolling window, which uses a fixed-size window of observations, an expanding window includes all observations up to the current time point.\n",
    "\n",
    "To calculate the expanding window mean in Python using Pandas, you can use the expanding() function along with the mean() function. Here's an example:"
   ]
  },
  {
   "cell_type": "code",
   "execution_count": 30,
   "id": "c696d373",
   "metadata": {},
   "outputs": [
    {
     "name": "stdout",
     "output_type": "stream",
     "text": [
      "0    1.0\n",
      "1    1.5\n",
      "2    2.0\n",
      "3    2.5\n",
      "4    3.0\n",
      "dtype: float64\n"
     ]
    }
   ],
   "source": [
    "import pandas as pd\n",
    "\n",
    "# create a time series\n",
    "ts = pd.Series([1, 2, 3, 4, 5])\n",
    "\n",
    "# calculate the expanding window mean\n",
    "exp_mean = ts.expanding().mean()\n",
    "\n",
    "print(exp_mean)\n"
   ]
  },
  {
   "cell_type": "code",
   "execution_count": 37,
   "id": "7132f974",
   "metadata": {},
   "outputs": [
    {
     "data": {
      "text/plain": [
       "2.5"
      ]
     },
     "execution_count": 37,
     "metadata": {},
     "output_type": "execute_result"
    }
   ],
   "source": [
    "(1+2+3+4)/4"
   ]
  },
  {
   "cell_type": "raw",
   "id": "b70ddd53",
   "metadata": {},
   "source": [
    "The first column with index 0 represents the mean of the first observation, which is 1.0.\n",
    "\n",
    "\n",
    "The second column with index 1 represents the mean of the first two observations, which is 1.5.\n",
    "\n",
    "\n",
    "The third column with index 2 represents the mean of the first three observations, which is 2.0.\n",
    "\n",
    "\n",
    "The fourth column with index 3 represents the mean of the first four observations, which is 2.5.\n",
    "\n",
    "\n",
    "The fifth column with index 4 represents the mean of all five observations, which is 3.0"
   ]
  },
  {
   "cell_type": "markdown",
   "id": "317dc106",
   "metadata": {},
   "source": [
    "In the context of a plot method, logy=True is a parameter that is used to set the y-axis scale to logarithmic.\n",
    "\n"
   ]
  },
  {
   "cell_type": "code",
   "execution_count": null,
   "id": "53fde73e",
   "metadata": {},
   "outputs": [],
   "source": []
  },
  {
   "cell_type": "markdown",
   "id": "137ab57d",
   "metadata": {},
   "source": [
    "# Exponentially Weighted Functions"
   ]
  },
  {
   "cell_type": "code",
   "execution_count": null,
   "id": "c2f489ef",
   "metadata": {},
   "outputs": [],
   "source": []
  },
  {
   "cell_type": "raw",
   "id": "12a4c759",
   "metadata": {},
   "source": [
    "Exponential smoothing is a weighted MA \n",
    "•\tWeights decline exponentially\n",
    "•\tMost recent observation is given the highest weight\n",
    "\n",
    "The weight [Smoothing  coefficient] is W\n",
    "•\tW is subjectively chosen\n",
    "•\tRanges from 0 to 1\n",
    "•\tSmaller weights gives more smoothing and larger weights gives less smoothing\n",
    "\n",
    "The weight is:\n",
    "•\tClose to 0 for smoothing out unwanted cyclical and irregular components\n",
    "•\tClose  to 1 for forecasting\n",
    "•\tIf weight = 0.5 then it is simple MA(equal emphasis)\n"
   ]
  },
  {
   "cell_type": "raw",
   "id": "45b29455",
   "metadata": {},
   "source": [
    "Since an exponentially weighted statistic places more weight on more recent observa‐\n",
    "tions, it “adapts” faster to changes compared with the equal-weighted version"
   ]
  },
  {
   "cell_type": "raw",
   "id": "04124c7d",
   "metadata": {},
   "source": [
    "The ewm() method is typically used to smooth out time series data and to identify long-term trends or patterns. It can be useful in applications such as financial forecasting, trend analysis, and anomaly detection."
   ]
  },
  {
   "cell_type": "raw",
   "id": "e888a83e",
   "metadata": {},
   "source": [
    "DataFrame.ewm(com=None, span=None, halflife=None, alpha=None, min_periods=0, adjust=True, ignore_na=False, axis=0, times=None, method='single')\n",
    "\n",
    "\n",
    "Provide exponentially weighted (EW) calculations.\n",
    "\n"
   ]
  },
  {
   "cell_type": "raw",
   "id": "70a91644",
   "metadata": {},
   "source": [
    "# ARGUMENTS\n",
    "\n",
    "com :  alpha = 1 / (1 + com)\n",
    "\n",
    "span : alpha = 2 / (span + 1)\n",
    "    \n",
    "min_periods\n",
    "\n",
    "ignore_na\n"
   ]
  },
  {
   "cell_type": "code",
   "execution_count": 41,
   "id": "a01aa73f",
   "metadata": {},
   "outputs": [
    {
     "name": "stdout",
     "output_type": "stream",
     "text": [
      "0     10\n",
      "1     20\n",
      "2     30\n",
      "3     40\n",
      "4     50\n",
      "5     60\n",
      "6     70\n",
      "7     80\n",
      "8     90\n",
      "9    100\n",
      "dtype: int64\n",
      "\n",
      "0    10.000000\n",
      "1    15.882353\n",
      "2    22.328767\n",
      "3    29.305172\n",
      "4    36.767877\n",
      "5    44.666816\n",
      "6    52.948831\n",
      "7    61.560635\n",
      "8    70.451211\n",
      "9    79.573531\n",
      "dtype: float64\n"
     ]
    }
   ],
   "source": [
    "import pandas as pd\n",
    "\n",
    "# create a sample time series\n",
    "data = [10, 20, 30, 40, 50, 60, 70, 80, 90, 100]\n",
    "ts = pd.Series(data)\n",
    "\n",
    "# calculate the EWMA with a smoothing factor of 0.3\n",
    "ewma = ts.ewm(alpha=0.3).mean()\n",
    "\n",
    "# print the original time series and the EWMA\n",
    "print(ts)\n",
    "print()\n",
    "print(ewma)\n",
    "\n",
    "\n",
    "# smoothing factor of 0.3"
   ]
  },
  {
   "cell_type": "raw",
   "id": "2dd30cd5",
   "metadata": {},
   "source": [
    " The smoothing parameter alpha determines the rate at which the weights decay, with higher values of alpha giving more weight to recent observations.\n",
    " \n",
    " 17.0 = 0.3 * 20 + (1 - 0.3) * 10\n",
    " 24.9 = 0.3 * 30 + (1 - 0.3) * 17\n",
    "\n",
    "\n",
    " The alpha parameter represents the degree of weight given to more recent observations relative to past observations.\n",
    "\n",
    "The alpha parameter can be set using the alpha parameter in the ewm() method in pandas. This parameter takes a float value between 0 and 1, where a value closer to 1 gives more weight to recent observations, and a value closer to 0 gives more weight to past observations."
   ]
  },
  {
   "cell_type": "markdown",
   "id": "4c937911",
   "metadata": {},
   "source": [
    "# Correlation Analysis"
   ]
  },
  {
   "cell_type": "code",
   "execution_count": 45,
   "id": "0ae5fc1e",
   "metadata": {},
   "outputs": [
    {
     "data": {
      "text/plain": [
       "<AxesSubplot:xlabel='Date'>"
      ]
     },
     "execution_count": 45,
     "metadata": {},
     "output_type": "execute_result"
    },
    {
     "data": {
      "image/png": "[encoded data removed]",
      "text/plain": [
       "<Figure size 432x288 with 1 Axes>"
      ]
     },
     "metadata": {
      "needs_background": "light"
     },
     "output_type": "display_data"
    }
   ],
   "source": [
    "df.Open.rolling(20).corr(df.Close).plot()"
   ]
  },
  {
   "cell_type": "markdown",
   "id": "5d3adb2a",
   "metadata": {},
   "source": [
    "# User-Defined Moving Window Functions\n"
   ]
  },
  {
   "cell_type": "markdown",
   "id": "bbfb3690",
   "metadata": {},
   "source": [
    "# Interquartile range "
   ]
  },
  {
   "cell_type": "code",
   "execution_count": 46,
   "id": "261590a2",
   "metadata": {
    "collapsed": true
   },
   "outputs": [
    {
     "name": "stdout",
     "output_type": "stream",
     "text": [
      "0          NaN\n",
      "1          NaN\n",
      "2          NaN\n",
      "3          NaN\n",
      "4          NaN\n",
      "        ...   \n",
      "95    1.171221\n",
      "96    1.171221\n",
      "97    1.220258\n",
      "98    1.461900\n",
      "99    1.412863\n",
      "Length: 100, dtype: float64\n"
     ]
    }
   ],
   "source": [
    "import pandas as pd\n",
    "import numpy as np\n",
    "\n",
    "# Create a time series of random values\n",
    "ts = pd.Series(np.random.randn(100))\n",
    "\n",
    "# Define a function to calculate the interquartile range of a rolling window\n",
    "def rolling_iqr(window):\n",
    "    q1 = window.quantile(0.25)\n",
    "    q3 = window.quantile(0.75)\n",
    "    return q3 - q1\n",
    "\n",
    "# Apply the custom function to a rolling window of size 20\n",
    "iqr = ts.rolling(window=20).apply(rolling_iqr)\n",
    "\n",
    "# Print the resulting time series of IQR values\n",
    "print(iqr)\n"
   ]
  },
  {
   "cell_type": "markdown",
   "id": "2ab714e3",
   "metadata": {},
   "source": [
    "# percentileofscore "
   ]
  },
  {
   "cell_type": "code",
   "execution_count": 48,
   "id": "94a7309a",
   "metadata": {},
   "outputs": [
    {
     "name": "stdout",
     "output_type": "stream",
     "text": [
      "90.0\n"
     ]
    }
   ],
   "source": [
    "import numpy as np\n",
    "from scipy.stats import percentileofscore\n",
    "\n",
    "# Create a sequence of scores\n",
    "scores = np.array([1, 2, 3, 4, 5, 6, 7, 8, 9, 10])\n",
    "\n",
    "# Compute the percentile rank of the score 7\n",
    "percentile_rank = percentileofscore(scores, 9)\n",
    "\n",
    "# Print the percentile rank\n",
    "print(percentile_rank)\n"
   ]
  },
  {
   "cell_type": "raw",
   "id": "28be4eff",
   "metadata": {},
   "source": [
    "The function takes two arguments: the first argument is the sequence of scores, and the second argument is the score for which the percentile rank is to be computed. The function returns the percentile rank of the score as a value between 0 and 100"
   ]
  },
  {
   "cell_type": "code",
   "execution_count": 52,
   "id": "1a128564",
   "metadata": {},
   "outputs": [],
   "source": [
    "from scipy.stats import percentileofscore\n",
    "score_at_2percent = lambda x: percentileofscore(x, 0.02)\n",
    "result = df.Close.rolling(250).apply(score_at_2percent)\n",
    "result.plot()"
   ]
  },
  {
   "cell_type": "code",
   "execution_count": null,
   "id": "d6c25ed3",
   "metadata": {},
   "outputs": [],
   "source": []
  },
  {
   "cell_type": "code",
   "execution_count": null,
   "id": "ff293b6d",
   "metadata": {},
   "outputs": [],
   "source": []
  },
  {
   "cell_type": "raw",
   "id": "42dd61f6",
   "metadata": {},
   "source": [
    "https://pandas.pydata.org/pandas-docs/stable/reference/api/pandas.DataFrame.rolling.html\n",
    "https://pandas.pydata.org/pandas-docs/stable/reference/api/pandas.DataFrame.ewm.html\n",
    "https://docs.scipy.org/doc/scipy/reference/generated/scipy.stats.percentileofscore.htmldd"
   ]
  }
 ],
 "metadata": {
  "kernelspec": {
   "display_name": "Python 3 (ipykernel)",
   "language": "python",
   "name": "python3"
  },
  "language_info": {
   "codemirror_mode": {
    "name": "ipython",
    "version": 3
   },
   "file_extension": ".py",
   "mimetype": "text/x-python",
   "name": "python",
   "nbconvert_exporter": "python",
   "pygments_lexer": "ipython3",
   "version": "3.9.12"
  }
 },
 "nbformat": 4,
 "nbformat_minor": 5
}
