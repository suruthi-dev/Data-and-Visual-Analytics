{
 "cells": [
  {
   "cell_type": "code",
   "execution_count": 35,
   "id": "83aa1a67",
   "metadata": {},
   "outputs": [],
   "source": [
    "import pandas as pd\n",
    "import numpy as np"
   ]
  },
  {
   "cell_type": "code",
   "execution_count": 9,
   "id": "5159b1e7",
   "metadata": {},
   "outputs": [],
   "source": [
    "df = pd.read_csv(\"apple.csv\",parse_dates=['Date'],index_col='Date')"
   ]
  },
  {
   "cell_type": "code",
   "execution_count": 10,
   "id": "ac97236b",
   "metadata": {},
   "outputs": [
    {
     "data": {
      "text/html": [
       "<div>\n",
       "<style scoped>\n",
       "    .dataframe tbody tr th:only-of-type {\n",
       "        vertical-align: middle;\n",
       "    }\n",
       "\n",
       "    .dataframe tbody tr th {\n",
       "        vertical-align: top;\n",
       "    }\n",
       "\n",
       "    .dataframe thead th {\n",
       "        text-align: right;\n",
       "    }\n",
       "</style>\n",
       "<table border=\"1\" class=\"dataframe\">\n",
       "  <thead>\n",
       "    <tr style=\"text-align: right;\">\n",
       "      <th></th>\n",
       "      <th>Open</th>\n",
       "      <th>High</th>\n",
       "      <th>Low</th>\n",
       "      <th>Close</th>\n",
       "      <th>Adj Close</th>\n",
       "      <th>Volume</th>\n",
       "    </tr>\n",
       "    <tr>\n",
       "      <th>Date</th>\n",
       "      <th></th>\n",
       "      <th></th>\n",
       "      <th></th>\n",
       "      <th></th>\n",
       "      <th></th>\n",
       "      <th></th>\n",
       "    </tr>\n",
       "  </thead>\n",
       "  <tbody>\n",
       "    <tr>\n",
       "      <th>2022-03-28</th>\n",
       "      <td>172.169998</td>\n",
       "      <td>175.729996</td>\n",
       "      <td>172.000000</td>\n",
       "      <td>175.600006</td>\n",
       "      <td>174.542679</td>\n",
       "      <td>90371900</td>\n",
       "    </tr>\n",
       "    <tr>\n",
       "      <th>2022-03-29</th>\n",
       "      <td>176.690002</td>\n",
       "      <td>179.009995</td>\n",
       "      <td>176.339996</td>\n",
       "      <td>178.960007</td>\n",
       "      <td>177.882446</td>\n",
       "      <td>100589400</td>\n",
       "    </tr>\n",
       "    <tr>\n",
       "      <th>2022-03-30</th>\n",
       "      <td>178.550003</td>\n",
       "      <td>179.610001</td>\n",
       "      <td>176.699997</td>\n",
       "      <td>177.770004</td>\n",
       "      <td>176.699615</td>\n",
       "      <td>92633200</td>\n",
       "    </tr>\n",
       "    <tr>\n",
       "      <th>2022-03-31</th>\n",
       "      <td>177.839996</td>\n",
       "      <td>178.029999</td>\n",
       "      <td>174.399994</td>\n",
       "      <td>174.610001</td>\n",
       "      <td>173.558640</td>\n",
       "      <td>103049300</td>\n",
       "    </tr>\n",
       "    <tr>\n",
       "      <th>2022-04-01</th>\n",
       "      <td>174.029999</td>\n",
       "      <td>174.880005</td>\n",
       "      <td>171.940002</td>\n",
       "      <td>174.309998</td>\n",
       "      <td>173.260437</td>\n",
       "      <td>78751300</td>\n",
       "    </tr>\n",
       "    <tr>\n",
       "      <th>...</th>\n",
       "      <td>...</td>\n",
       "      <td>...</td>\n",
       "      <td>...</td>\n",
       "      <td>...</td>\n",
       "      <td>...</td>\n",
       "      <td>...</td>\n",
       "    </tr>\n",
       "    <tr>\n",
       "      <th>2023-03-22</th>\n",
       "      <td>159.300003</td>\n",
       "      <td>162.139999</td>\n",
       "      <td>157.809998</td>\n",
       "      <td>157.830002</td>\n",
       "      <td>157.830002</td>\n",
       "      <td>75701800</td>\n",
       "    </tr>\n",
       "    <tr>\n",
       "      <th>2023-03-23</th>\n",
       "      <td>158.830002</td>\n",
       "      <td>161.550003</td>\n",
       "      <td>157.679993</td>\n",
       "      <td>158.929993</td>\n",
       "      <td>158.929993</td>\n",
       "      <td>67622100</td>\n",
       "    </tr>\n",
       "    <tr>\n",
       "      <th>2023-03-24</th>\n",
       "      <td>158.860001</td>\n",
       "      <td>160.339996</td>\n",
       "      <td>157.850006</td>\n",
       "      <td>160.250000</td>\n",
       "      <td>160.250000</td>\n",
       "      <td>59196500</td>\n",
       "    </tr>\n",
       "    <tr>\n",
       "      <th>2023-03-27</th>\n",
       "      <td>159.940002</td>\n",
       "      <td>160.770004</td>\n",
       "      <td>157.869995</td>\n",
       "      <td>158.279999</td>\n",
       "      <td>158.279999</td>\n",
       "      <td>52390300</td>\n",
       "    </tr>\n",
       "    <tr>\n",
       "      <th>2023-03-28</th>\n",
       "      <td>157.970001</td>\n",
       "      <td>158.490005</td>\n",
       "      <td>155.979996</td>\n",
       "      <td>157.649994</td>\n",
       "      <td>157.649994</td>\n",
       "      <td>45939800</td>\n",
       "    </tr>\n",
       "  </tbody>\n",
       "</table>\n",
       "<p>252 rows × 6 columns</p>\n",
       "</div>"
      ],
      "text/plain": [
       "                  Open        High         Low       Close   Adj Close  \\\n",
       "Date                                                                     \n",
       "2022-03-28  172.169998  175.729996  172.000000  175.600006  174.542679   \n",
       "2022-03-29  176.690002  179.009995  176.339996  178.960007  177.882446   \n",
       "2022-03-30  178.550003  179.610001  176.699997  177.770004  176.699615   \n",
       "2022-03-31  177.839996  178.029999  174.399994  174.610001  173.558640   \n",
       "2022-04-01  174.029999  174.880005  171.940002  174.309998  173.260437   \n",
       "...                ...         ...         ...         ...         ...   \n",
       "2023-03-22  159.300003  162.139999  157.809998  157.830002  157.830002   \n",
       "2023-03-23  158.830002  161.550003  157.679993  158.929993  158.929993   \n",
       "2023-03-24  158.860001  160.339996  157.850006  160.250000  160.250000   \n",
       "2023-03-27  159.940002  160.770004  157.869995  158.279999  158.279999   \n",
       "2023-03-28  157.970001  158.490005  155.979996  157.649994  157.649994   \n",
       "\n",
       "               Volume  \n",
       "Date                   \n",
       "2022-03-28   90371900  \n",
       "2022-03-29  100589400  \n",
       "2022-03-30   92633200  \n",
       "2022-03-31  103049300  \n",
       "2022-04-01   78751300  \n",
       "...               ...  \n",
       "2023-03-22   75701800  \n",
       "2023-03-23   67622100  \n",
       "2023-03-24   59196500  \n",
       "2023-03-27   52390300  \n",
       "2023-03-28   45939800  \n",
       "\n",
       "[252 rows x 6 columns]"
      ]
     },
     "execution_count": 10,
     "metadata": {},
     "output_type": "execute_result"
    }
   ],
   "source": [
    "df"
   ]
  },
  {
   "cell_type": "code",
   "execution_count": 12,
   "id": "97aa74c8",
   "metadata": {},
   "outputs": [],
   "source": [
    "# type(df.Date[0])"
   ]
  },
  {
   "cell_type": "markdown",
   "id": "21c88aa5",
   "metadata": {},
   "source": [
    "# Resampling"
   ]
  },
  {
   "cell_type": "code",
   "execution_count": 20,
   "id": "72b06b30",
   "metadata": {},
   "outputs": [
    {
     "data": {
      "text/plain": [
       "<AxesSubplot:xlabel='Date'>"
      ]
     },
     "execution_count": 20,
     "metadata": {},
     "output_type": "execute_result"
    },
    {
     "data": {
      "image/png": "[encoded data removed]",
      "text/plain": [
       "<Figure size 432x288 with 1 Axes>"
      ]
     },
     "metadata": {
      "needs_background": "light"
     },
     "output_type": "display_data"
    }
   ],
   "source": [
    "df.Close.resample(\"Q\").mean().plot(kind='bar')"
   ]
  },
  {
   "cell_type": "markdown",
   "id": "be96c8f3",
   "metadata": {},
   "source": [
    "# date_range"
   ]
  },
  {
   "cell_type": "code",
   "execution_count": 26,
   "id": "20533d3f",
   "metadata": {},
   "outputs": [
    {
     "data": {
      "text/html": [
       "<div>\n",
       "<style scoped>\n",
       "    .dataframe tbody tr th:only-of-type {\n",
       "        vertical-align: middle;\n",
       "    }\n",
       "\n",
       "    .dataframe tbody tr th {\n",
       "        vertical-align: top;\n",
       "    }\n",
       "\n",
       "    .dataframe thead th {\n",
       "        text-align: right;\n",
       "    }\n",
       "</style>\n",
       "<table border=\"1\" class=\"dataframe\">\n",
       "  <thead>\n",
       "    <tr style=\"text-align: right;\">\n",
       "      <th></th>\n",
       "      <th>Open</th>\n",
       "      <th>High</th>\n",
       "      <th>Low</th>\n",
       "      <th>Close</th>\n",
       "      <th>Adj Close</th>\n",
       "      <th>Volume</th>\n",
       "    </tr>\n",
       "  </thead>\n",
       "  <tbody>\n",
       "    <tr>\n",
       "      <th>0</th>\n",
       "      <td>172.169998</td>\n",
       "      <td>175.729996</td>\n",
       "      <td>172.000000</td>\n",
       "      <td>175.600006</td>\n",
       "      <td>174.542679</td>\n",
       "      <td>90371900</td>\n",
       "    </tr>\n",
       "    <tr>\n",
       "      <th>1</th>\n",
       "      <td>176.690002</td>\n",
       "      <td>179.009995</td>\n",
       "      <td>176.339996</td>\n",
       "      <td>178.960007</td>\n",
       "      <td>177.882446</td>\n",
       "      <td>100589400</td>\n",
       "    </tr>\n",
       "    <tr>\n",
       "      <th>2</th>\n",
       "      <td>178.550003</td>\n",
       "      <td>179.610001</td>\n",
       "      <td>176.699997</td>\n",
       "      <td>177.770004</td>\n",
       "      <td>176.699615</td>\n",
       "      <td>92633200</td>\n",
       "    </tr>\n",
       "    <tr>\n",
       "      <th>3</th>\n",
       "      <td>177.839996</td>\n",
       "      <td>178.029999</td>\n",
       "      <td>174.399994</td>\n",
       "      <td>174.610001</td>\n",
       "      <td>173.558640</td>\n",
       "      <td>103049300</td>\n",
       "    </tr>\n",
       "    <tr>\n",
       "      <th>4</th>\n",
       "      <td>174.029999</td>\n",
       "      <td>174.880005</td>\n",
       "      <td>171.940002</td>\n",
       "      <td>174.309998</td>\n",
       "      <td>173.260437</td>\n",
       "      <td>78751300</td>\n",
       "    </tr>\n",
       "    <tr>\n",
       "      <th>5</th>\n",
       "      <td>174.570007</td>\n",
       "      <td>178.490005</td>\n",
       "      <td>174.440002</td>\n",
       "      <td>178.440002</td>\n",
       "      <td>177.365570</td>\n",
       "      <td>76468400</td>\n",
       "    </tr>\n",
       "    <tr>\n",
       "      <th>6</th>\n",
       "      <td>177.500000</td>\n",
       "      <td>178.300003</td>\n",
       "      <td>174.419998</td>\n",
       "      <td>175.059998</td>\n",
       "      <td>174.005920</td>\n",
       "      <td>73401800</td>\n",
       "    </tr>\n",
       "    <tr>\n",
       "      <th>7</th>\n",
       "      <td>172.360001</td>\n",
       "      <td>173.630005</td>\n",
       "      <td>170.130005</td>\n",
       "      <td>171.830002</td>\n",
       "      <td>170.795364</td>\n",
       "      <td>89058800</td>\n",
       "    </tr>\n",
       "    <tr>\n",
       "      <th>8</th>\n",
       "      <td>171.160004</td>\n",
       "      <td>173.360001</td>\n",
       "      <td>169.850006</td>\n",
       "      <td>172.139999</td>\n",
       "      <td>171.103485</td>\n",
       "      <td>77594700</td>\n",
       "    </tr>\n",
       "    <tr>\n",
       "      <th>9</th>\n",
       "      <td>171.779999</td>\n",
       "      <td>171.779999</td>\n",
       "      <td>169.199997</td>\n",
       "      <td>170.089996</td>\n",
       "      <td>169.065842</td>\n",
       "      <td>76575500</td>\n",
       "    </tr>\n",
       "    <tr>\n",
       "      <th>10</th>\n",
       "      <td>168.710007</td>\n",
       "      <td>169.029999</td>\n",
       "      <td>165.500000</td>\n",
       "      <td>165.750000</td>\n",
       "      <td>164.751984</td>\n",
       "      <td>72246700</td>\n",
       "    </tr>\n",
       "    <tr>\n",
       "      <th>11</th>\n",
       "      <td>168.020004</td>\n",
       "      <td>169.869995</td>\n",
       "      <td>166.639999</td>\n",
       "      <td>167.660004</td>\n",
       "      <td>166.650482</td>\n",
       "      <td>79265200</td>\n",
       "    </tr>\n",
       "    <tr>\n",
       "      <th>12</th>\n",
       "      <td>167.389999</td>\n",
       "      <td>171.039993</td>\n",
       "      <td>166.770004</td>\n",
       "      <td>170.399994</td>\n",
       "      <td>169.373962</td>\n",
       "      <td>70618900</td>\n",
       "    </tr>\n",
       "    <tr>\n",
       "      <th>13</th>\n",
       "      <td>170.619995</td>\n",
       "      <td>171.270004</td>\n",
       "      <td>165.039993</td>\n",
       "      <td>165.289993</td>\n",
       "      <td>164.294739</td>\n",
       "      <td>75329400</td>\n",
       "    </tr>\n",
       "    <tr>\n",
       "      <th>14</th>\n",
       "      <td>163.919998</td>\n",
       "      <td>166.600006</td>\n",
       "      <td>163.570007</td>\n",
       "      <td>165.070007</td>\n",
       "      <td>164.076080</td>\n",
       "      <td>69023900</td>\n",
       "    </tr>\n",
       "    <tr>\n",
       "      <th>15</th>\n",
       "      <td>165.020004</td>\n",
       "      <td>167.820007</td>\n",
       "      <td>163.910004</td>\n",
       "      <td>167.399994</td>\n",
       "      <td>166.392029</td>\n",
       "      <td>67723800</td>\n",
       "    </tr>\n",
       "    <tr>\n",
       "      <th>16</th>\n",
       "      <td>168.759995</td>\n",
       "      <td>168.880005</td>\n",
       "      <td>166.100006</td>\n",
       "      <td>167.229996</td>\n",
       "      <td>166.223053</td>\n",
       "      <td>67929800</td>\n",
       "    </tr>\n",
       "    <tr>\n",
       "      <th>17</th>\n",
       "      <td>168.910004</td>\n",
       "      <td>171.529999</td>\n",
       "      <td>165.910004</td>\n",
       "      <td>166.419998</td>\n",
       "      <td>165.417938</td>\n",
       "      <td>87227800</td>\n",
       "    </tr>\n",
       "    <tr>\n",
       "      <th>18</th>\n",
       "      <td>166.460007</td>\n",
       "      <td>167.869995</td>\n",
       "      <td>161.500000</td>\n",
       "      <td>161.789993</td>\n",
       "      <td>160.815826</td>\n",
       "      <td>84882400</td>\n",
       "    </tr>\n",
       "    <tr>\n",
       "      <th>19</th>\n",
       "      <td>161.119995</td>\n",
       "      <td>163.169998</td>\n",
       "      <td>158.460007</td>\n",
       "      <td>162.880005</td>\n",
       "      <td>161.899277</td>\n",
       "      <td>96046400</td>\n",
       "    </tr>\n",
       "    <tr>\n",
       "      <th>20</th>\n",
       "      <td>162.250000</td>\n",
       "      <td>162.339996</td>\n",
       "      <td>156.720001</td>\n",
       "      <td>156.800003</td>\n",
       "      <td>155.855881</td>\n",
       "      <td>95623200</td>\n",
       "    </tr>\n",
       "  </tbody>\n",
       "</table>\n",
       "</div>"
      ],
      "text/plain": [
       "          Open        High         Low       Close   Adj Close     Volume\n",
       "0   172.169998  175.729996  172.000000  175.600006  174.542679   90371900\n",
       "1   176.690002  179.009995  176.339996  178.960007  177.882446  100589400\n",
       "2   178.550003  179.610001  176.699997  177.770004  176.699615   92633200\n",
       "3   177.839996  178.029999  174.399994  174.610001  173.558640  103049300\n",
       "4   174.029999  174.880005  171.940002  174.309998  173.260437   78751300\n",
       "5   174.570007  178.490005  174.440002  178.440002  177.365570   76468400\n",
       "6   177.500000  178.300003  174.419998  175.059998  174.005920   73401800\n",
       "7   172.360001  173.630005  170.130005  171.830002  170.795364   89058800\n",
       "8   171.160004  173.360001  169.850006  172.139999  171.103485   77594700\n",
       "9   171.779999  171.779999  169.199997  170.089996  169.065842   76575500\n",
       "10  168.710007  169.029999  165.500000  165.750000  164.751984   72246700\n",
       "11  168.020004  169.869995  166.639999  167.660004  166.650482   79265200\n",
       "12  167.389999  171.039993  166.770004  170.399994  169.373962   70618900\n",
       "13  170.619995  171.270004  165.039993  165.289993  164.294739   75329400\n",
       "14  163.919998  166.600006  163.570007  165.070007  164.076080   69023900\n",
       "15  165.020004  167.820007  163.910004  167.399994  166.392029   67723800\n",
       "16  168.759995  168.880005  166.100006  167.229996  166.223053   67929800\n",
       "17  168.910004  171.529999  165.910004  166.419998  165.417938   87227800\n",
       "18  166.460007  167.869995  161.500000  161.789993  160.815826   84882400\n",
       "19  161.119995  163.169998  158.460007  162.880005  161.899277   96046400\n",
       "20  162.250000  162.339996  156.720001  156.800003  155.855881   95623200"
      ]
     },
     "execution_count": 26,
     "metadata": {},
     "output_type": "execute_result"
    }
   ],
   "source": [
    "df = pd.read_csv(\"apple2.csv\")\n",
    "df = df.head(21)\n",
    "df"
   ]
  },
  {
   "cell_type": "code",
   "execution_count": 27,
   "id": "26e355af",
   "metadata": {},
   "outputs": [
    {
     "data": {
      "text/plain": [
       "DatetimeIndex(['2023-01-02', '2023-01-03', '2023-01-04', '2023-01-05',\n",
       "               '2023-01-06', '2023-01-09', '2023-01-10', '2023-01-11',\n",
       "               '2023-01-12', '2023-01-13', '2023-01-16', '2023-01-17',\n",
       "               '2023-01-18', '2023-01-19', '2023-01-20', '2023-01-23',\n",
       "               '2023-01-24', '2023-01-25', '2023-01-26', '2023-01-27',\n",
       "               '2023-01-30'],\n",
       "              dtype='datetime64[ns]', freq='B')"
      ]
     },
     "execution_count": 27,
     "metadata": {},
     "output_type": "execute_result"
    }
   ],
   "source": [
    "rng = pd.date_range(start='1-1-2023',end='30-1-2023',freq='B')\n",
    "rng"
   ]
  },
  {
   "cell_type": "code",
   "execution_count": 28,
   "id": "5fe310bd",
   "metadata": {},
   "outputs": [
    {
     "data": {
      "text/html": [
       "<div>\n",
       "<style scoped>\n",
       "    .dataframe tbody tr th:only-of-type {\n",
       "        vertical-align: middle;\n",
       "    }\n",
       "\n",
       "    .dataframe tbody tr th {\n",
       "        vertical-align: top;\n",
       "    }\n",
       "\n",
       "    .dataframe thead th {\n",
       "        text-align: right;\n",
       "    }\n",
       "</style>\n",
       "<table border=\"1\" class=\"dataframe\">\n",
       "  <thead>\n",
       "    <tr style=\"text-align: right;\">\n",
       "      <th></th>\n",
       "      <th>Open</th>\n",
       "      <th>High</th>\n",
       "      <th>Low</th>\n",
       "      <th>Close</th>\n",
       "      <th>Adj Close</th>\n",
       "      <th>Volume</th>\n",
       "    </tr>\n",
       "  </thead>\n",
       "  <tbody>\n",
       "    <tr>\n",
       "      <th>2023-01-02</th>\n",
       "      <td>172.169998</td>\n",
       "      <td>175.729996</td>\n",
       "      <td>172.000000</td>\n",
       "      <td>175.600006</td>\n",
       "      <td>174.542679</td>\n",
       "      <td>90371900</td>\n",
       "    </tr>\n",
       "    <tr>\n",
       "      <th>2023-01-03</th>\n",
       "      <td>176.690002</td>\n",
       "      <td>179.009995</td>\n",
       "      <td>176.339996</td>\n",
       "      <td>178.960007</td>\n",
       "      <td>177.882446</td>\n",
       "      <td>100589400</td>\n",
       "    </tr>\n",
       "    <tr>\n",
       "      <th>2023-01-04</th>\n",
       "      <td>178.550003</td>\n",
       "      <td>179.610001</td>\n",
       "      <td>176.699997</td>\n",
       "      <td>177.770004</td>\n",
       "      <td>176.699615</td>\n",
       "      <td>92633200</td>\n",
       "    </tr>\n",
       "    <tr>\n",
       "      <th>2023-01-05</th>\n",
       "      <td>177.839996</td>\n",
       "      <td>178.029999</td>\n",
       "      <td>174.399994</td>\n",
       "      <td>174.610001</td>\n",
       "      <td>173.558640</td>\n",
       "      <td>103049300</td>\n",
       "    </tr>\n",
       "    <tr>\n",
       "      <th>2023-01-06</th>\n",
       "      <td>174.029999</td>\n",
       "      <td>174.880005</td>\n",
       "      <td>171.940002</td>\n",
       "      <td>174.309998</td>\n",
       "      <td>173.260437</td>\n",
       "      <td>78751300</td>\n",
       "    </tr>\n",
       "    <tr>\n",
       "      <th>2023-01-09</th>\n",
       "      <td>174.570007</td>\n",
       "      <td>178.490005</td>\n",
       "      <td>174.440002</td>\n",
       "      <td>178.440002</td>\n",
       "      <td>177.365570</td>\n",
       "      <td>76468400</td>\n",
       "    </tr>\n",
       "    <tr>\n",
       "      <th>2023-01-10</th>\n",
       "      <td>177.500000</td>\n",
       "      <td>178.300003</td>\n",
       "      <td>174.419998</td>\n",
       "      <td>175.059998</td>\n",
       "      <td>174.005920</td>\n",
       "      <td>73401800</td>\n",
       "    </tr>\n",
       "    <tr>\n",
       "      <th>2023-01-11</th>\n",
       "      <td>172.360001</td>\n",
       "      <td>173.630005</td>\n",
       "      <td>170.130005</td>\n",
       "      <td>171.830002</td>\n",
       "      <td>170.795364</td>\n",
       "      <td>89058800</td>\n",
       "    </tr>\n",
       "    <tr>\n",
       "      <th>2023-01-12</th>\n",
       "      <td>171.160004</td>\n",
       "      <td>173.360001</td>\n",
       "      <td>169.850006</td>\n",
       "      <td>172.139999</td>\n",
       "      <td>171.103485</td>\n",
       "      <td>77594700</td>\n",
       "    </tr>\n",
       "    <tr>\n",
       "      <th>2023-01-13</th>\n",
       "      <td>171.779999</td>\n",
       "      <td>171.779999</td>\n",
       "      <td>169.199997</td>\n",
       "      <td>170.089996</td>\n",
       "      <td>169.065842</td>\n",
       "      <td>76575500</td>\n",
       "    </tr>\n",
       "    <tr>\n",
       "      <th>2023-01-16</th>\n",
       "      <td>168.710007</td>\n",
       "      <td>169.029999</td>\n",
       "      <td>165.500000</td>\n",
       "      <td>165.750000</td>\n",
       "      <td>164.751984</td>\n",
       "      <td>72246700</td>\n",
       "    </tr>\n",
       "    <tr>\n",
       "      <th>2023-01-17</th>\n",
       "      <td>168.020004</td>\n",
       "      <td>169.869995</td>\n",
       "      <td>166.639999</td>\n",
       "      <td>167.660004</td>\n",
       "      <td>166.650482</td>\n",
       "      <td>79265200</td>\n",
       "    </tr>\n",
       "    <tr>\n",
       "      <th>2023-01-18</th>\n",
       "      <td>167.389999</td>\n",
       "      <td>171.039993</td>\n",
       "      <td>166.770004</td>\n",
       "      <td>170.399994</td>\n",
       "      <td>169.373962</td>\n",
       "      <td>70618900</td>\n",
       "    </tr>\n",
       "    <tr>\n",
       "      <th>2023-01-19</th>\n",
       "      <td>170.619995</td>\n",
       "      <td>171.270004</td>\n",
       "      <td>165.039993</td>\n",
       "      <td>165.289993</td>\n",
       "      <td>164.294739</td>\n",
       "      <td>75329400</td>\n",
       "    </tr>\n",
       "    <tr>\n",
       "      <th>2023-01-20</th>\n",
       "      <td>163.919998</td>\n",
       "      <td>166.600006</td>\n",
       "      <td>163.570007</td>\n",
       "      <td>165.070007</td>\n",
       "      <td>164.076080</td>\n",
       "      <td>69023900</td>\n",
       "    </tr>\n",
       "    <tr>\n",
       "      <th>2023-01-23</th>\n",
       "      <td>165.020004</td>\n",
       "      <td>167.820007</td>\n",
       "      <td>163.910004</td>\n",
       "      <td>167.399994</td>\n",
       "      <td>166.392029</td>\n",
       "      <td>67723800</td>\n",
       "    </tr>\n",
       "    <tr>\n",
       "      <th>2023-01-24</th>\n",
       "      <td>168.759995</td>\n",
       "      <td>168.880005</td>\n",
       "      <td>166.100006</td>\n",
       "      <td>167.229996</td>\n",
       "      <td>166.223053</td>\n",
       "      <td>67929800</td>\n",
       "    </tr>\n",
       "    <tr>\n",
       "      <th>2023-01-25</th>\n",
       "      <td>168.910004</td>\n",
       "      <td>171.529999</td>\n",
       "      <td>165.910004</td>\n",
       "      <td>166.419998</td>\n",
       "      <td>165.417938</td>\n",
       "      <td>87227800</td>\n",
       "    </tr>\n",
       "    <tr>\n",
       "      <th>2023-01-26</th>\n",
       "      <td>166.460007</td>\n",
       "      <td>167.869995</td>\n",
       "      <td>161.500000</td>\n",
       "      <td>161.789993</td>\n",
       "      <td>160.815826</td>\n",
       "      <td>84882400</td>\n",
       "    </tr>\n",
       "    <tr>\n",
       "      <th>2023-01-27</th>\n",
       "      <td>161.119995</td>\n",
       "      <td>163.169998</td>\n",
       "      <td>158.460007</td>\n",
       "      <td>162.880005</td>\n",
       "      <td>161.899277</td>\n",
       "      <td>96046400</td>\n",
       "    </tr>\n",
       "    <tr>\n",
       "      <th>2023-01-30</th>\n",
       "      <td>162.250000</td>\n",
       "      <td>162.339996</td>\n",
       "      <td>156.720001</td>\n",
       "      <td>156.800003</td>\n",
       "      <td>155.855881</td>\n",
       "      <td>95623200</td>\n",
       "    </tr>\n",
       "  </tbody>\n",
       "</table>\n",
       "</div>"
      ],
      "text/plain": [
       "                  Open        High         Low       Close   Adj Close  \\\n",
       "2023-01-02  172.169998  175.729996  172.000000  175.600006  174.542679   \n",
       "2023-01-03  176.690002  179.009995  176.339996  178.960007  177.882446   \n",
       "2023-01-04  178.550003  179.610001  176.699997  177.770004  176.699615   \n",
       "2023-01-05  177.839996  178.029999  174.399994  174.610001  173.558640   \n",
       "2023-01-06  174.029999  174.880005  171.940002  174.309998  173.260437   \n",
       "2023-01-09  174.570007  178.490005  174.440002  178.440002  177.365570   \n",
       "2023-01-10  177.500000  178.300003  174.419998  175.059998  174.005920   \n",
       "2023-01-11  172.360001  173.630005  170.130005  171.830002  170.795364   \n",
       "2023-01-12  171.160004  173.360001  169.850006  172.139999  171.103485   \n",
       "2023-01-13  171.779999  171.779999  169.199997  170.089996  169.065842   \n",
       "2023-01-16  168.710007  169.029999  165.500000  165.750000  164.751984   \n",
       "2023-01-17  168.020004  169.869995  166.639999  167.660004  166.650482   \n",
       "2023-01-18  167.389999  171.039993  166.770004  170.399994  169.373962   \n",
       "2023-01-19  170.619995  171.270004  165.039993  165.289993  164.294739   \n",
       "2023-01-20  163.919998  166.600006  163.570007  165.070007  164.076080   \n",
       "2023-01-23  165.020004  167.820007  163.910004  167.399994  166.392029   \n",
       "2023-01-24  168.759995  168.880005  166.100006  167.229996  166.223053   \n",
       "2023-01-25  168.910004  171.529999  165.910004  166.419998  165.417938   \n",
       "2023-01-26  166.460007  167.869995  161.500000  161.789993  160.815826   \n",
       "2023-01-27  161.119995  163.169998  158.460007  162.880005  161.899277   \n",
       "2023-01-30  162.250000  162.339996  156.720001  156.800003  155.855881   \n",
       "\n",
       "               Volume  \n",
       "2023-01-02   90371900  \n",
       "2023-01-03  100589400  \n",
       "2023-01-04   92633200  \n",
       "2023-01-05  103049300  \n",
       "2023-01-06   78751300  \n",
       "2023-01-09   76468400  \n",
       "2023-01-10   73401800  \n",
       "2023-01-11   89058800  \n",
       "2023-01-12   77594700  \n",
       "2023-01-13   76575500  \n",
       "2023-01-16   72246700  \n",
       "2023-01-17   79265200  \n",
       "2023-01-18   70618900  \n",
       "2023-01-19   75329400  \n",
       "2023-01-20   69023900  \n",
       "2023-01-23   67723800  \n",
       "2023-01-24   67929800  \n",
       "2023-01-25   87227800  \n",
       "2023-01-26   84882400  \n",
       "2023-01-27   96046400  \n",
       "2023-01-30   95623200  "
      ]
     },
     "execution_count": 28,
     "metadata": {},
     "output_type": "execute_result"
    }
   ],
   "source": [
    "df.set_index(rng,inplace=True)\n",
    "df"
   ]
  },
  {
   "cell_type": "code",
   "execution_count": 33,
   "id": "70806248",
   "metadata": {},
   "outputs": [
    {
     "data": {
      "text/html": [
       "<div>\n",
       "<style scoped>\n",
       "    .dataframe tbody tr th:only-of-type {\n",
       "        vertical-align: middle;\n",
       "    }\n",
       "\n",
       "    .dataframe tbody tr th {\n",
       "        vertical-align: top;\n",
       "    }\n",
       "\n",
       "    .dataframe thead th {\n",
       "        text-align: right;\n",
       "    }\n",
       "</style>\n",
       "<table border=\"1\" class=\"dataframe\">\n",
       "  <thead>\n",
       "    <tr style=\"text-align: right;\">\n",
       "      <th></th>\n",
       "      <th>Open</th>\n",
       "      <th>High</th>\n",
       "      <th>Low</th>\n",
       "      <th>Close</th>\n",
       "      <th>Adj Close</th>\n",
       "      <th>Volume</th>\n",
       "    </tr>\n",
       "  </thead>\n",
       "  <tbody>\n",
       "    <tr>\n",
       "      <th>2023-01-02</th>\n",
       "      <td>172.169998</td>\n",
       "      <td>175.729996</td>\n",
       "      <td>172.000000</td>\n",
       "      <td>175.600006</td>\n",
       "      <td>174.542679</td>\n",
       "      <td>90371900</td>\n",
       "    </tr>\n",
       "    <tr>\n",
       "      <th>2023-01-03</th>\n",
       "      <td>176.690002</td>\n",
       "      <td>179.009995</td>\n",
       "      <td>176.339996</td>\n",
       "      <td>178.960007</td>\n",
       "      <td>177.882446</td>\n",
       "      <td>100589400</td>\n",
       "    </tr>\n",
       "    <tr>\n",
       "      <th>2023-01-04</th>\n",
       "      <td>178.550003</td>\n",
       "      <td>179.610001</td>\n",
       "      <td>176.699997</td>\n",
       "      <td>177.770004</td>\n",
       "      <td>176.699615</td>\n",
       "      <td>92633200</td>\n",
       "    </tr>\n",
       "    <tr>\n",
       "      <th>2023-01-05</th>\n",
       "      <td>177.839996</td>\n",
       "      <td>178.029999</td>\n",
       "      <td>174.399994</td>\n",
       "      <td>174.610001</td>\n",
       "      <td>173.558640</td>\n",
       "      <td>103049300</td>\n",
       "    </tr>\n",
       "    <tr>\n",
       "      <th>2023-01-06</th>\n",
       "      <td>174.029999</td>\n",
       "      <td>174.880005</td>\n",
       "      <td>171.940002</td>\n",
       "      <td>174.309998</td>\n",
       "      <td>173.260437</td>\n",
       "      <td>78751300</td>\n",
       "    </tr>\n",
       "    <tr>\n",
       "      <th>2023-01-07</th>\n",
       "      <td>174.029999</td>\n",
       "      <td>174.880005</td>\n",
       "      <td>171.940002</td>\n",
       "      <td>174.309998</td>\n",
       "      <td>173.260437</td>\n",
       "      <td>78751300</td>\n",
       "    </tr>\n",
       "    <tr>\n",
       "      <th>2023-01-08</th>\n",
       "      <td>174.029999</td>\n",
       "      <td>174.880005</td>\n",
       "      <td>171.940002</td>\n",
       "      <td>174.309998</td>\n",
       "      <td>173.260437</td>\n",
       "      <td>78751300</td>\n",
       "    </tr>\n",
       "    <tr>\n",
       "      <th>2023-01-09</th>\n",
       "      <td>174.570007</td>\n",
       "      <td>178.490005</td>\n",
       "      <td>174.440002</td>\n",
       "      <td>178.440002</td>\n",
       "      <td>177.365570</td>\n",
       "      <td>76468400</td>\n",
       "    </tr>\n",
       "    <tr>\n",
       "      <th>2023-01-10</th>\n",
       "      <td>177.500000</td>\n",
       "      <td>178.300003</td>\n",
       "      <td>174.419998</td>\n",
       "      <td>175.059998</td>\n",
       "      <td>174.005920</td>\n",
       "      <td>73401800</td>\n",
       "    </tr>\n",
       "    <tr>\n",
       "      <th>2023-01-11</th>\n",
       "      <td>172.360001</td>\n",
       "      <td>173.630005</td>\n",
       "      <td>170.130005</td>\n",
       "      <td>171.830002</td>\n",
       "      <td>170.795364</td>\n",
       "      <td>89058800</td>\n",
       "    </tr>\n",
       "    <tr>\n",
       "      <th>2023-01-12</th>\n",
       "      <td>171.160004</td>\n",
       "      <td>173.360001</td>\n",
       "      <td>169.850006</td>\n",
       "      <td>172.139999</td>\n",
       "      <td>171.103485</td>\n",
       "      <td>77594700</td>\n",
       "    </tr>\n",
       "    <tr>\n",
       "      <th>2023-01-13</th>\n",
       "      <td>171.779999</td>\n",
       "      <td>171.779999</td>\n",
       "      <td>169.199997</td>\n",
       "      <td>170.089996</td>\n",
       "      <td>169.065842</td>\n",
       "      <td>76575500</td>\n",
       "    </tr>\n",
       "    <tr>\n",
       "      <th>2023-01-14</th>\n",
       "      <td>171.779999</td>\n",
       "      <td>171.779999</td>\n",
       "      <td>169.199997</td>\n",
       "      <td>170.089996</td>\n",
       "      <td>169.065842</td>\n",
       "      <td>76575500</td>\n",
       "    </tr>\n",
       "    <tr>\n",
       "      <th>2023-01-15</th>\n",
       "      <td>171.779999</td>\n",
       "      <td>171.779999</td>\n",
       "      <td>169.199997</td>\n",
       "      <td>170.089996</td>\n",
       "      <td>169.065842</td>\n",
       "      <td>76575500</td>\n",
       "    </tr>\n",
       "    <tr>\n",
       "      <th>2023-01-16</th>\n",
       "      <td>168.710007</td>\n",
       "      <td>169.029999</td>\n",
       "      <td>165.500000</td>\n",
       "      <td>165.750000</td>\n",
       "      <td>164.751984</td>\n",
       "      <td>72246700</td>\n",
       "    </tr>\n",
       "    <tr>\n",
       "      <th>2023-01-17</th>\n",
       "      <td>168.020004</td>\n",
       "      <td>169.869995</td>\n",
       "      <td>166.639999</td>\n",
       "      <td>167.660004</td>\n",
       "      <td>166.650482</td>\n",
       "      <td>79265200</td>\n",
       "    </tr>\n",
       "    <tr>\n",
       "      <th>2023-01-18</th>\n",
       "      <td>167.389999</td>\n",
       "      <td>171.039993</td>\n",
       "      <td>166.770004</td>\n",
       "      <td>170.399994</td>\n",
       "      <td>169.373962</td>\n",
       "      <td>70618900</td>\n",
       "    </tr>\n",
       "    <tr>\n",
       "      <th>2023-01-19</th>\n",
       "      <td>170.619995</td>\n",
       "      <td>171.270004</td>\n",
       "      <td>165.039993</td>\n",
       "      <td>165.289993</td>\n",
       "      <td>164.294739</td>\n",
       "      <td>75329400</td>\n",
       "    </tr>\n",
       "    <tr>\n",
       "      <th>2023-01-20</th>\n",
       "      <td>163.919998</td>\n",
       "      <td>166.600006</td>\n",
       "      <td>163.570007</td>\n",
       "      <td>165.070007</td>\n",
       "      <td>164.076080</td>\n",
       "      <td>69023900</td>\n",
       "    </tr>\n",
       "    <tr>\n",
       "      <th>2023-01-21</th>\n",
       "      <td>163.919998</td>\n",
       "      <td>166.600006</td>\n",
       "      <td>163.570007</td>\n",
       "      <td>165.070007</td>\n",
       "      <td>164.076080</td>\n",
       "      <td>69023900</td>\n",
       "    </tr>\n",
       "    <tr>\n",
       "      <th>2023-01-22</th>\n",
       "      <td>163.919998</td>\n",
       "      <td>166.600006</td>\n",
       "      <td>163.570007</td>\n",
       "      <td>165.070007</td>\n",
       "      <td>164.076080</td>\n",
       "      <td>69023900</td>\n",
       "    </tr>\n",
       "    <tr>\n",
       "      <th>2023-01-23</th>\n",
       "      <td>165.020004</td>\n",
       "      <td>167.820007</td>\n",
       "      <td>163.910004</td>\n",
       "      <td>167.399994</td>\n",
       "      <td>166.392029</td>\n",
       "      <td>67723800</td>\n",
       "    </tr>\n",
       "    <tr>\n",
       "      <th>2023-01-24</th>\n",
       "      <td>168.759995</td>\n",
       "      <td>168.880005</td>\n",
       "      <td>166.100006</td>\n",
       "      <td>167.229996</td>\n",
       "      <td>166.223053</td>\n",
       "      <td>67929800</td>\n",
       "    </tr>\n",
       "    <tr>\n",
       "      <th>2023-01-25</th>\n",
       "      <td>168.910004</td>\n",
       "      <td>171.529999</td>\n",
       "      <td>165.910004</td>\n",
       "      <td>166.419998</td>\n",
       "      <td>165.417938</td>\n",
       "      <td>87227800</td>\n",
       "    </tr>\n",
       "    <tr>\n",
       "      <th>2023-01-26</th>\n",
       "      <td>166.460007</td>\n",
       "      <td>167.869995</td>\n",
       "      <td>161.500000</td>\n",
       "      <td>161.789993</td>\n",
       "      <td>160.815826</td>\n",
       "      <td>84882400</td>\n",
       "    </tr>\n",
       "    <tr>\n",
       "      <th>2023-01-27</th>\n",
       "      <td>161.119995</td>\n",
       "      <td>163.169998</td>\n",
       "      <td>158.460007</td>\n",
       "      <td>162.880005</td>\n",
       "      <td>161.899277</td>\n",
       "      <td>96046400</td>\n",
       "    </tr>\n",
       "    <tr>\n",
       "      <th>2023-01-28</th>\n",
       "      <td>161.119995</td>\n",
       "      <td>163.169998</td>\n",
       "      <td>158.460007</td>\n",
       "      <td>162.880005</td>\n",
       "      <td>161.899277</td>\n",
       "      <td>96046400</td>\n",
       "    </tr>\n",
       "    <tr>\n",
       "      <th>2023-01-29</th>\n",
       "      <td>161.119995</td>\n",
       "      <td>163.169998</td>\n",
       "      <td>158.460007</td>\n",
       "      <td>162.880005</td>\n",
       "      <td>161.899277</td>\n",
       "      <td>96046400</td>\n",
       "    </tr>\n",
       "    <tr>\n",
       "      <th>2023-01-30</th>\n",
       "      <td>162.250000</td>\n",
       "      <td>162.339996</td>\n",
       "      <td>156.720001</td>\n",
       "      <td>156.800003</td>\n",
       "      <td>155.855881</td>\n",
       "      <td>95623200</td>\n",
       "    </tr>\n",
       "  </tbody>\n",
       "</table>\n",
       "</div>"
      ],
      "text/plain": [
       "                  Open        High         Low       Close   Adj Close  \\\n",
       "2023-01-02  172.169998  175.729996  172.000000  175.600006  174.542679   \n",
       "2023-01-03  176.690002  179.009995  176.339996  178.960007  177.882446   \n",
       "2023-01-04  178.550003  179.610001  176.699997  177.770004  176.699615   \n",
       "2023-01-05  177.839996  178.029999  174.399994  174.610001  173.558640   \n",
       "2023-01-06  174.029999  174.880005  171.940002  174.309998  173.260437   \n",
       "2023-01-07  174.029999  174.880005  171.940002  174.309998  173.260437   \n",
       "2023-01-08  174.029999  174.880005  171.940002  174.309998  173.260437   \n",
       "2023-01-09  174.570007  178.490005  174.440002  178.440002  177.365570   \n",
       "2023-01-10  177.500000  178.300003  174.419998  175.059998  174.005920   \n",
       "2023-01-11  172.360001  173.630005  170.130005  171.830002  170.795364   \n",
       "2023-01-12  171.160004  173.360001  169.850006  172.139999  171.103485   \n",
       "2023-01-13  171.779999  171.779999  169.199997  170.089996  169.065842   \n",
       "2023-01-14  171.779999  171.779999  169.199997  170.089996  169.065842   \n",
       "2023-01-15  171.779999  171.779999  169.199997  170.089996  169.065842   \n",
       "2023-01-16  168.710007  169.029999  165.500000  165.750000  164.751984   \n",
       "2023-01-17  168.020004  169.869995  166.639999  167.660004  166.650482   \n",
       "2023-01-18  167.389999  171.039993  166.770004  170.399994  169.373962   \n",
       "2023-01-19  170.619995  171.270004  165.039993  165.289993  164.294739   \n",
       "2023-01-20  163.919998  166.600006  163.570007  165.070007  164.076080   \n",
       "2023-01-21  163.919998  166.600006  163.570007  165.070007  164.076080   \n",
       "2023-01-22  163.919998  166.600006  163.570007  165.070007  164.076080   \n",
       "2023-01-23  165.020004  167.820007  163.910004  167.399994  166.392029   \n",
       "2023-01-24  168.759995  168.880005  166.100006  167.229996  166.223053   \n",
       "2023-01-25  168.910004  171.529999  165.910004  166.419998  165.417938   \n",
       "2023-01-26  166.460007  167.869995  161.500000  161.789993  160.815826   \n",
       "2023-01-27  161.119995  163.169998  158.460007  162.880005  161.899277   \n",
       "2023-01-28  161.119995  163.169998  158.460007  162.880005  161.899277   \n",
       "2023-01-29  161.119995  163.169998  158.460007  162.880005  161.899277   \n",
       "2023-01-30  162.250000  162.339996  156.720001  156.800003  155.855881   \n",
       "\n",
       "               Volume  \n",
       "2023-01-02   90371900  \n",
       "2023-01-03  100589400  \n",
       "2023-01-04   92633200  \n",
       "2023-01-05  103049300  \n",
       "2023-01-06   78751300  \n",
       "2023-01-07   78751300  \n",
       "2023-01-08   78751300  \n",
       "2023-01-09   76468400  \n",
       "2023-01-10   73401800  \n",
       "2023-01-11   89058800  \n",
       "2023-01-12   77594700  \n",
       "2023-01-13   76575500  \n",
       "2023-01-14   76575500  \n",
       "2023-01-15   76575500  \n",
       "2023-01-16   72246700  \n",
       "2023-01-17   79265200  \n",
       "2023-01-18   70618900  \n",
       "2023-01-19   75329400  \n",
       "2023-01-20   69023900  \n",
       "2023-01-21   69023900  \n",
       "2023-01-22   69023900  \n",
       "2023-01-23   67723800  \n",
       "2023-01-24   67929800  \n",
       "2023-01-25   87227800  \n",
       "2023-01-26   84882400  \n",
       "2023-01-27   96046400  \n",
       "2023-01-28   96046400  \n",
       "2023-01-29   96046400  \n",
       "2023-01-30   95623200  "
      ]
     },
     "execution_count": 33,
     "metadata": {},
     "output_type": "execute_result"
    }
   ],
   "source": [
    "df.asfreq(\"D\",method='ffill')"
   ]
  },
  {
   "cell_type": "code",
   "execution_count": 34,
   "id": "eae00272",
   "metadata": {},
   "outputs": [
    {
     "data": {
      "text/plain": [
       "DatetimeIndex(['2023-01-02', '2023-01-03', '2023-01-04', '2023-01-05',\n",
       "               '2023-01-06', '2023-01-09', '2023-01-10', '2023-01-11',\n",
       "               '2023-01-12', '2023-01-13', '2023-01-16', '2023-01-17',\n",
       "               '2023-01-18', '2023-01-19', '2023-01-20', '2023-01-23',\n",
       "               '2023-01-24', '2023-01-25', '2023-01-26', '2023-01-27'],\n",
       "              dtype='datetime64[ns]', freq='B')"
      ]
     },
     "execution_count": 34,
     "metadata": {},
     "output_type": "execute_result"
    }
   ],
   "source": [
    "rng = pd.date_range(start='1-1-2023',periods=20,freq='B')\n",
    "rng"
   ]
  },
  {
   "cell_type": "code",
   "execution_count": 37,
   "id": "406aa574",
   "metadata": {},
   "outputs": [
    {
     "data": {
      "text/html": [
       "<div>\n",
       "<style scoped>\n",
       "    .dataframe tbody tr th:only-of-type {\n",
       "        vertical-align: middle;\n",
       "    }\n",
       "\n",
       "    .dataframe tbody tr th {\n",
       "        vertical-align: top;\n",
       "    }\n",
       "\n",
       "    .dataframe thead th {\n",
       "        text-align: right;\n",
       "    }\n",
       "</style>\n",
       "<table border=\"1\" class=\"dataframe\">\n",
       "  <thead>\n",
       "    <tr style=\"text-align: right;\">\n",
       "      <th></th>\n",
       "      <th>0</th>\n",
       "    </tr>\n",
       "  </thead>\n",
       "  <tbody>\n",
       "    <tr>\n",
       "      <th>2023-01-02</th>\n",
       "      <td>21</td>\n",
       "    </tr>\n",
       "    <tr>\n",
       "      <th>2023-01-03</th>\n",
       "      <td>17</td>\n",
       "    </tr>\n",
       "    <tr>\n",
       "      <th>2023-01-04</th>\n",
       "      <td>27</td>\n",
       "    </tr>\n",
       "    <tr>\n",
       "      <th>2023-01-05</th>\n",
       "      <td>21</td>\n",
       "    </tr>\n",
       "    <tr>\n",
       "      <th>2023-01-06</th>\n",
       "      <td>29</td>\n",
       "    </tr>\n",
       "    <tr>\n",
       "      <th>2023-01-09</th>\n",
       "      <td>3</td>\n",
       "    </tr>\n",
       "    <tr>\n",
       "      <th>2023-01-10</th>\n",
       "      <td>3</td>\n",
       "    </tr>\n",
       "    <tr>\n",
       "      <th>2023-01-11</th>\n",
       "      <td>5</td>\n",
       "    </tr>\n",
       "    <tr>\n",
       "      <th>2023-01-12</th>\n",
       "      <td>14</td>\n",
       "    </tr>\n",
       "    <tr>\n",
       "      <th>2023-01-13</th>\n",
       "      <td>2</td>\n",
       "    </tr>\n",
       "    <tr>\n",
       "      <th>2023-01-16</th>\n",
       "      <td>6</td>\n",
       "    </tr>\n",
       "    <tr>\n",
       "      <th>2023-01-17</th>\n",
       "      <td>26</td>\n",
       "    </tr>\n",
       "    <tr>\n",
       "      <th>2023-01-18</th>\n",
       "      <td>2</td>\n",
       "    </tr>\n",
       "    <tr>\n",
       "      <th>2023-01-19</th>\n",
       "      <td>16</td>\n",
       "    </tr>\n",
       "    <tr>\n",
       "      <th>2023-01-20</th>\n",
       "      <td>5</td>\n",
       "    </tr>\n",
       "    <tr>\n",
       "      <th>2023-01-23</th>\n",
       "      <td>18</td>\n",
       "    </tr>\n",
       "    <tr>\n",
       "      <th>2023-01-24</th>\n",
       "      <td>21</td>\n",
       "    </tr>\n",
       "    <tr>\n",
       "      <th>2023-01-25</th>\n",
       "      <td>12</td>\n",
       "    </tr>\n",
       "    <tr>\n",
       "      <th>2023-01-26</th>\n",
       "      <td>17</td>\n",
       "    </tr>\n",
       "    <tr>\n",
       "      <th>2023-01-27</th>\n",
       "      <td>6</td>\n",
       "    </tr>\n",
       "  </tbody>\n",
       "</table>\n",
       "</div>"
      ],
      "text/plain": [
       "             0\n",
       "2023-01-02  21\n",
       "2023-01-03  17\n",
       "2023-01-04  27\n",
       "2023-01-05  21\n",
       "2023-01-06  29\n",
       "2023-01-09   3\n",
       "2023-01-10   3\n",
       "2023-01-11   5\n",
       "2023-01-12  14\n",
       "2023-01-13   2\n",
       "2023-01-16   6\n",
       "2023-01-17  26\n",
       "2023-01-18   2\n",
       "2023-01-19  16\n",
       "2023-01-20   5\n",
       "2023-01-23  18\n",
       "2023-01-24  21\n",
       "2023-01-25  12\n",
       "2023-01-26  17\n",
       "2023-01-27   6"
      ]
     },
     "execution_count": 37,
     "metadata": {},
     "output_type": "execute_result"
    }
   ],
   "source": [
    "ts = pd.DataFrame(np.random.randint(1,30,len(rng)),index=rng)\n",
    "ts"
   ]
  },
  {
   "cell_type": "markdown",
   "id": "13bed774",
   "metadata": {},
   "source": [
    "# to_datetime"
   ]
  },
  {
   "cell_type": "code",
   "execution_count": 46,
   "id": "e114d529",
   "metadata": {},
   "outputs": [],
   "source": [
    "dates = ['2017-01-05 2:30:00 PM', 'Jan 5 , 2017, 22:22','01/02/2020','20.01.2020','20120105']"
   ]
  },
  {
   "cell_type": "code",
   "execution_count": 47,
   "id": "91f25597",
   "metadata": {},
   "outputs": [
    {
     "name": "stderr",
     "output_type": "stream",
     "text": [
      "C:\\Users\\SURUTHI S\\AppData\\Local\\Temp\\ipykernel_27712\\2189660946.py:1: UserWarning: Parsing '20.01.2020' in DD/MM/YYYY format. Provide format or specify infer_datetime_format=True for consistent parsing.\n",
      "  pd.to_datetime(dates)\n"
     ]
    },
    {
     "data": {
      "text/plain": [
       "DatetimeIndex(['2017-01-05 14:30:00', '2017-01-05 22:22:00',\n",
       "               '2020-01-02 00:00:00', '2020-01-20 00:00:00',\n",
       "               '2012-01-05 00:00:00'],\n",
       "              dtype='datetime64[ns]', freq=None)"
      ]
     },
     "execution_count": 47,
     "metadata": {},
     "output_type": "execute_result"
    }
   ],
   "source": [
    "pd.to_datetime(dates)"
   ]
  },
  {
   "cell_type": "code",
   "execution_count": 41,
   "id": "d89afb26",
   "metadata": {},
   "outputs": [
    {
     "data": {
      "text/plain": [
       "Timestamp('2020-01-05 00:00:00')"
      ]
     },
     "execution_count": 41,
     "metadata": {},
     "output_type": "execute_result"
    }
   ],
   "source": [
    "pd.to_datetime('05.01.2020',dayfirst=True)"
   ]
  },
  {
   "cell_type": "code",
   "execution_count": 48,
   "id": "575ba069",
   "metadata": {},
   "outputs": [],
   "source": [
    "dates = ['2017-01-05 2:30:00 PM', 'Jan 5 , 2017, 22:22','01/02/2020','20.01.2020','20120105','abc']"
   ]
  },
  {
   "cell_type": "code",
   "execution_count": 49,
   "id": "35b57c4e",
   "metadata": {},
   "outputs": [
    {
     "name": "stderr",
     "output_type": "stream",
     "text": [
      "C:\\Users\\SURUTHI S\\AppData\\Local\\Temp\\ipykernel_27712\\1635583337.py:1: UserWarning: Parsing '20.01.2020' in DD/MM/YYYY format. Provide format or specify infer_datetime_format=True for consistent parsing.\n",
      "  pd.to_datetime(dates,errors='ignore')\n"
     ]
    },
    {
     "data": {
      "text/plain": [
       "Index(['2017-01-05 2:30:00 PM', 'Jan 5 , 2017, 22:22', '01/02/2020',\n",
       "       '20.01.2020', '20120105', 'abc'],\n",
       "      dtype='object')"
      ]
     },
     "execution_count": 49,
     "metadata": {},
     "output_type": "execute_result"
    }
   ],
   "source": [
    "pd.to_datetime(dates,errors='ignore')"
   ]
  },
  {
   "cell_type": "code",
   "execution_count": 45,
   "id": "e1b15df4",
   "metadata": {},
   "outputs": [
    {
     "name": "stderr",
     "output_type": "stream",
     "text": [
      "C:\\Users\\SURUTHI S\\AppData\\Local\\Temp\\ipykernel_27712\\2049481468.py:1: UserWarning: Parsing '20.01.2020' in DD/MM/YYYY format. Provide format or specify infer_datetime_format=True for consistent parsing.\n",
      "  pd.to_datetime(dates,errors='coerce')\n"
     ]
    },
    {
     "data": {
      "text/plain": [
       "DatetimeIndex(['2017-01-05 14:30:00', '2017-01-05 22:22:00',\n",
       "               '2020-01-02 00:00:00', '2020-01-20 00:00:00',\n",
       "               '2012-01-05 00:00:00',                 'NaT'],\n",
       "              dtype='datetime64[ns]', freq=None)"
      ]
     },
     "execution_count": 45,
     "metadata": {},
     "output_type": "execute_result"
    }
   ],
   "source": [
    "pd.to_datetime(dates,errors='coerce')"
   ]
  },
  {
   "cell_type": "markdown",
   "id": "83a728d2",
   "metadata": {},
   "source": [
    "# Period and PeriodIndex"
   ]
  },
  {
   "cell_type": "code",
   "execution_count": 52,
   "id": "bfe6766b",
   "metadata": {},
   "outputs": [
    {
     "data": {
      "text/plain": [
       "Period('2020', 'A-DEC')"
      ]
     },
     "execution_count": 52,
     "metadata": {},
     "output_type": "execute_result"
    }
   ],
   "source": [
    "y = pd.Period('2020')\n",
    "y"
   ]
  },
  {
   "cell_type": "code",
   "execution_count": 53,
   "id": "7081afb8",
   "metadata": {},
   "outputs": [
    {
     "data": {
      "text/plain": [
       "Timestamp('2020-01-01 00:00:00')"
      ]
     },
     "execution_count": 53,
     "metadata": {},
     "output_type": "execute_result"
    }
   ],
   "source": [
    "y.start_time"
   ]
  },
  {
   "cell_type": "code",
   "execution_count": 54,
   "id": "2a6b6f38",
   "metadata": {},
   "outputs": [
    {
     "data": {
      "text/plain": [
       "Timestamp('2020-12-31 23:59:59.999999999')"
      ]
     },
     "execution_count": 54,
     "metadata": {},
     "output_type": "execute_result"
    }
   ],
   "source": [
    "y.end_time"
   ]
  },
  {
   "cell_type": "code",
   "execution_count": 55,
   "id": "bbb2ad64",
   "metadata": {},
   "outputs": [
    {
     "data": {
      "text/plain": [
       "Period('2020-02', 'M')"
      ]
     },
     "execution_count": 55,
     "metadata": {},
     "output_type": "execute_result"
    }
   ],
   "source": [
    "m = pd.Period('2020-2',freq='M')\n",
    "m"
   ]
  },
  {
   "cell_type": "code",
   "execution_count": 56,
   "id": "f51483a6",
   "metadata": {},
   "outputs": [
    {
     "data": {
      "text/plain": [
       "Period('2020-03', 'M')"
      ]
     },
     "execution_count": 56,
     "metadata": {},
     "output_type": "execute_result"
    }
   ],
   "source": [
    "m+1"
   ]
  },
  {
   "cell_type": "code",
   "execution_count": 65,
   "id": "abb36e4a",
   "metadata": {},
   "outputs": [
    {
     "data": {
      "text/plain": [
       "Period('2020-01-09', 'D')"
      ]
     },
     "execution_count": 65,
     "metadata": {},
     "output_type": "execute_result"
    }
   ],
   "source": [
    "d = pd.Period(\"2020-01-9\")\n",
    "d"
   ]
  },
  {
   "cell_type": "code",
   "execution_count": 66,
   "id": "9dfcb6f2",
   "metadata": {},
   "outputs": [
    {
     "data": {
      "text/plain": [
       "Period('2020-01-10', 'D')"
      ]
     },
     "execution_count": 66,
     "metadata": {},
     "output_type": "execute_result"
    }
   ],
   "source": [
    "d+1"
   ]
  },
  {
   "cell_type": "code",
   "execution_count": 68,
   "id": "4ff6024f",
   "metadata": {},
   "outputs": [
    {
     "data": {
      "text/plain": [
       "Period('2020-02-10 19:00', 'H')"
      ]
     },
     "execution_count": 68,
     "metadata": {},
     "output_type": "execute_result"
    }
   ],
   "source": [
    "h = pd.Period('2020-02-10 19:00',freq='H')\n",
    "h"
   ]
  },
  {
   "cell_type": "code",
   "execution_count": 72,
   "id": "5eab482e",
   "metadata": {},
   "outputs": [
    {
     "data": {
      "text/plain": [
       "Period('2020-02-10 20:00', 'H')"
      ]
     },
     "execution_count": 72,
     "metadata": {},
     "output_type": "execute_result"
    }
   ],
   "source": [
    "h+1"
   ]
  },
  {
   "cell_type": "code",
   "execution_count": 73,
   "id": "64c62f84",
   "metadata": {},
   "outputs": [
    {
     "data": {
      "text/plain": [
       "Period('2020Q1', 'Q-DEC')"
      ]
     },
     "execution_count": 73,
     "metadata": {},
     "output_type": "execute_result"
    }
   ],
   "source": [
    "q = pd.Period('2020Q1')\n",
    "q"
   ]
  },
  {
   "cell_type": "code",
   "execution_count": 74,
   "id": "f159ccce",
   "metadata": {},
   "outputs": [
    {
     "data": {
      "text/plain": [
       "Period('2020Q2', 'Q-DEC')"
      ]
     },
     "execution_count": 74,
     "metadata": {},
     "output_type": "execute_result"
    }
   ],
   "source": [
    "q+1"
   ]
  },
  {
   "cell_type": "code",
   "execution_count": 75,
   "id": "5a7c5664",
   "metadata": {},
   "outputs": [
    {
     "data": {
      "text/plain": [
       "Period('2020Q1', 'Q-JAN')"
      ]
     },
     "execution_count": 75,
     "metadata": {},
     "output_type": "execute_result"
    }
   ],
   "source": [
    "q = pd.Period('2020Q1',freq='Q-JAN')\n",
    "q"
   ]
  },
  {
   "cell_type": "code",
   "execution_count": 76,
   "id": "42f0ef34",
   "metadata": {},
   "outputs": [
    {
     "data": {
      "text/plain": [
       "Period('2020Q2', 'Q-JAN')"
      ]
     },
     "execution_count": 76,
     "metadata": {},
     "output_type": "execute_result"
    }
   ],
   "source": [
    "q+1"
   ]
  },
  {
   "cell_type": "code",
   "execution_count": 79,
   "id": "0a74b644",
   "metadata": {},
   "outputs": [
    {
     "data": {
      "text/plain": [
       "Period('2019-02', 'M')"
      ]
     },
     "execution_count": 79,
     "metadata": {},
     "output_type": "execute_result"
    }
   ],
   "source": [
    "q.asfreq(\"M\",how='start')"
   ]
  },
  {
   "cell_type": "markdown",
   "id": "61b51fc3",
   "metadata": {},
   "source": [
    "# pd.period_range"
   ]
  },
  {
   "cell_type": "code",
   "execution_count": 84,
   "id": "c61f6c31",
   "metadata": {},
   "outputs": [
    {
     "data": {
      "text/plain": [
       "PeriodIndex(['2011Q1', '2011Q2', '2011Q3', '2011Q4', '2012Q1', '2012Q2',\n",
       "             '2012Q3', '2012Q4', '2013Q1', '2013Q2', '2013Q3', '2013Q4',\n",
       "             '2014Q1', '2014Q2', '2014Q3', '2014Q4', '2015Q1', '2015Q2',\n",
       "             '2015Q3', '2015Q4', '2016Q1', '2016Q2', '2016Q3', '2016Q4',\n",
       "             '2017Q1', '2017Q2', '2017Q3', '2017Q4', '2018Q1', '2018Q2',\n",
       "             '2018Q3', '2018Q4', '2019Q1', '2019Q2', '2019Q3', '2019Q4',\n",
       "             '2020Q1', '2020Q2', '2020Q3', '2020Q4', '2021Q1', '2021Q2',\n",
       "             '2021Q3', '2021Q4', '2022Q1', '2022Q2', '2022Q3', '2022Q4',\n",
       "             '2023Q1'],\n",
       "            dtype='period[Q-DEC]')"
      ]
     },
     "execution_count": 84,
     "metadata": {},
     "output_type": "execute_result"
    }
   ],
   "source": [
    "ts = pd.period_range('2011','2023',freq='Q')\n",
    "ts"
   ]
  },
  {
   "cell_type": "code",
   "execution_count": 88,
   "id": "f4f3968c",
   "metadata": {},
   "outputs": [
    {
     "data": {
      "text/plain": [
       "2011Q1     4\n",
       "2011Q2    16\n",
       "2011Q3     8\n",
       "2011Q4    10\n",
       "2012Q1    18\n",
       "2012Q2    17\n",
       "2012Q3     1\n",
       "2012Q4    18\n",
       "2013Q1    18\n",
       "2013Q2    18\n",
       "2013Q3     8\n",
       "2013Q4     2\n",
       "2014Q1     8\n",
       "2014Q2     8\n",
       "2014Q3     6\n",
       "2014Q4     8\n",
       "2015Q1    17\n",
       "2015Q2     2\n",
       "2015Q3    19\n",
       "2015Q4    13\n",
       "2016Q1     7\n",
       "2016Q2    12\n",
       "2016Q3    14\n",
       "2016Q4     5\n",
       "2017Q1    10\n",
       "2017Q2    17\n",
       "2017Q3     6\n",
       "2017Q4    14\n",
       "2018Q1     7\n",
       "2018Q2     3\n",
       "2018Q3    11\n",
       "2018Q4    14\n",
       "2019Q1     4\n",
       "2019Q2    11\n",
       "2019Q3    15\n",
       "2019Q4    10\n",
       "2020Q1     9\n",
       "2020Q2     5\n",
       "2020Q3    19\n",
       "2020Q4    16\n",
       "2021Q1     8\n",
       "2021Q2     3\n",
       "2021Q3     6\n",
       "2021Q4    16\n",
       "2022Q1    19\n",
       "2022Q2     3\n",
       "2022Q3    12\n",
       "2022Q4    19\n",
       "2023Q1    11\n",
       "Freq: Q-DEC, dtype: int32"
      ]
     },
     "execution_count": 88,
     "metadata": {},
     "output_type": "execute_result"
    }
   ],
   "source": [
    "ps = pd.Series(np.random.randint(1,20,len(ts)),ts)\n",
    "ps"
   ]
  },
  {
   "cell_type": "code",
   "execution_count": 91,
   "id": "99e6993c",
   "metadata": {},
   "outputs": [
    {
     "data": {
      "text/plain": [
       "2019Q1     4\n",
       "2019Q2    11\n",
       "2019Q3    15\n",
       "2019Q4    10\n",
       "2020Q1     9\n",
       "2020Q2     5\n",
       "2020Q3    19\n",
       "2020Q4    16\n",
       "2021Q1     8\n",
       "2021Q2     3\n",
       "2021Q3     6\n",
       "2021Q4    16\n",
       "2022Q1    19\n",
       "2022Q2     3\n",
       "2022Q3    12\n",
       "2022Q4    19\n",
       "Freq: Q-DEC, dtype: int32"
      ]
     },
     "execution_count": 91,
     "metadata": {},
     "output_type": "execute_result"
    }
   ],
   "source": [
    "ps['2019':'2022']"
   ]
  },
  {
   "cell_type": "code",
   "execution_count": 92,
   "id": "dd5ed0e1",
   "metadata": {},
   "outputs": [
    {
     "data": {
      "text/plain": [
       "2011-01-01     4\n",
       "2011-04-01    16\n",
       "2011-07-01     8\n",
       "2011-10-01    10\n",
       "2012-01-01    18\n",
       "2012-04-01    17\n",
       "2012-07-01     1\n",
       "2012-10-01    18\n",
       "2013-01-01    18\n",
       "2013-04-01    18\n",
       "2013-07-01     8\n",
       "2013-10-01     2\n",
       "2014-01-01     8\n",
       "2014-04-01     8\n",
       "2014-07-01     6\n",
       "2014-10-01     8\n",
       "2015-01-01    17\n",
       "2015-04-01     2\n",
       "2015-07-01    19\n",
       "2015-10-01    13\n",
       "2016-01-01     7\n",
       "2016-04-01    12\n",
       "2016-07-01    14\n",
       "2016-10-01     5\n",
       "2017-01-01    10\n",
       "2017-04-01    17\n",
       "2017-07-01     6\n",
       "2017-10-01    14\n",
       "2018-01-01     7\n",
       "2018-04-01     3\n",
       "2018-07-01    11\n",
       "2018-10-01    14\n",
       "2019-01-01     4\n",
       "2019-04-01    11\n",
       "2019-07-01    15\n",
       "2019-10-01    10\n",
       "2020-01-01     9\n",
       "2020-04-01     5\n",
       "2020-07-01    19\n",
       "2020-10-01    16\n",
       "2021-01-01     8\n",
       "2021-04-01     3\n",
       "2021-07-01     6\n",
       "2021-10-01    16\n",
       "2022-01-01    19\n",
       "2022-04-01     3\n",
       "2022-07-01    12\n",
       "2022-10-01    19\n",
       "2023-01-01    11\n",
       "Freq: QS-OCT, dtype: int32"
      ]
     },
     "execution_count": 92,
     "metadata": {},
     "output_type": "execute_result"
    }
   ],
   "source": [
    "pst = ps.to_timestamp()\n",
    "pst"
   ]
  },
  {
   "cell_type": "code",
   "execution_count": 93,
   "id": "9c4ba0be",
   "metadata": {},
   "outputs": [
    {
     "data": {
      "text/plain": [
       "DatetimeIndex(['2011-01-01', '2011-04-01', '2011-07-01', '2011-10-01',\n",
       "               '2012-01-01', '2012-04-01', '2012-07-01', '2012-10-01',\n",
       "               '2013-01-01', '2013-04-01', '2013-07-01', '2013-10-01',\n",
       "               '2014-01-01', '2014-04-01', '2014-07-01', '2014-10-01',\n",
       "               '2015-01-01', '2015-04-01', '2015-07-01', '2015-10-01',\n",
       "               '2016-01-01', '2016-04-01', '2016-07-01', '2016-10-01',\n",
       "               '2017-01-01', '2017-04-01', '2017-07-01', '2017-10-01',\n",
       "               '2018-01-01', '2018-04-01', '2018-07-01', '2018-10-01',\n",
       "               '2019-01-01', '2019-04-01', '2019-07-01', '2019-10-01',\n",
       "               '2020-01-01', '2020-04-01', '2020-07-01', '2020-10-01',\n",
       "               '2021-01-01', '2021-04-01', '2021-07-01', '2021-10-01',\n",
       "               '2022-01-01', '2022-04-01', '2022-07-01', '2022-10-01',\n",
       "               '2023-01-01'],\n",
       "              dtype='datetime64[ns]', freq='QS-OCT')"
      ]
     },
     "execution_count": 93,
     "metadata": {},
     "output_type": "execute_result"
    }
   ],
   "source": [
    "pst.index"
   ]
  },
  {
   "cell_type": "code",
   "execution_count": 95,
   "id": "ef1810b0",
   "metadata": {},
   "outputs": [
    {
     "data": {
      "text/plain": [
       "PeriodIndex(['2011Q1', '2011Q2', '2011Q3', '2011Q4', '2012Q1', '2012Q2',\n",
       "             '2012Q3', '2012Q4', '2013Q1', '2013Q2', '2013Q3', '2013Q4',\n",
       "             '2014Q1', '2014Q2', '2014Q3', '2014Q4', '2015Q1', '2015Q2',\n",
       "             '2015Q3', '2015Q4', '2016Q1', '2016Q2', '2016Q3', '2016Q4',\n",
       "             '2017Q1', '2017Q2', '2017Q3', '2017Q4', '2018Q1', '2018Q2',\n",
       "             '2018Q3', '2018Q4', '2019Q1', '2019Q2', '2019Q3', '2019Q4',\n",
       "             '2020Q1', '2020Q2', '2020Q3', '2020Q4', '2021Q1', '2021Q2',\n",
       "             '2021Q3', '2021Q4', '2022Q1', '2022Q2', '2022Q3', '2022Q4',\n",
       "             '2023Q1'],\n",
       "            dtype='period[Q-DEC]')"
      ]
     },
     "execution_count": 95,
     "metadata": {},
     "output_type": "execute_result"
    }
   ],
   "source": [
    "pst.to_period().index"
   ]
  },
  {
   "cell_type": "code",
   "execution_count": null,
   "id": "f19f0cf5",
   "metadata": {},
   "outputs": [],
   "source": []
  },
  {
   "cell_type": "code",
   "execution_count": null,
   "id": "ef126e2c",
   "metadata": {},
   "outputs": [],
   "source": []
  },
  {
   "cell_type": "code",
   "execution_count": null,
   "id": "92dd288b",
   "metadata": {},
   "outputs": [],
   "source": []
  },
  {
   "cell_type": "code",
   "execution_count": null,
   "id": "076ecd41",
   "metadata": {},
   "outputs": [],
   "source": []
  },
  {
   "cell_type": "code",
   "execution_count": null,
   "id": "1a31fac9",
   "metadata": {},
   "outputs": [],
   "source": []
  },
  {
   "cell_type": "code",
   "execution_count": null,
   "id": "1fd4c93e",
   "metadata": {},
   "outputs": [],
   "source": []
  },
  {
   "cell_type": "code",
   "execution_count": null,
   "id": "96f878ed",
   "metadata": {},
   "outputs": [],
   "source": []
  }
 ],
 "metadata": {
  "kernelspec": {
   "display_name": "Python 3 (ipykernel)",
   "language": "python",
   "name": "python3"
  },
  "language_info": {
   "codemirror_mode": {
    "name": "ipython",
    "version": 3
   },
   "file_extension": ".py",
   "mimetype": "text/x-python",
   "name": "python",
   "nbconvert_exporter": "python",
   "pygments_lexer": "ipython3",
   "version": "3.9.12"
  }
 },
 "nbformat": 4,
 "nbformat_minor": 5
}
